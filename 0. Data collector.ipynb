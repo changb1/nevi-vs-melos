{
 "cells": [
  {
   "cell_type": "markdown",
   "metadata": {},
   "source": [
    "# Data collector\n",
    "Data loader from ISIC"
   ]
  },
  {
   "cell_type": "code",
   "execution_count": 2,
   "metadata": {},
   "outputs": [],
   "source": [
    "''' \n",
    "Load libs \n",
    "'''\n",
    "import csv\n",
    "import os\n",
    "import json\n",
    "import numpy as np\n",
    "import pandas as pd\n",
    "\n",
    "from concurrent.futures import ThreadPoolExecutor"
   ]
  },
  {
   "cell_type": "markdown",
   "metadata": {},
   "source": [
    "# Make ISIC API requester "
   ]
  },
  {
   "cell_type": "code",
   "execution_count": 3,
   "metadata": {},
   "outputs": [],
   "source": [
    "'''\n",
    "Make ISIC Api request class\n",
    "'''\n",
    "import requests\n",
    "\n",
    "class ISICApi(object):\n",
    "    def __init__(self, hostname='https://isic-archive.com',\n",
    "                 username=None, password=None):\n",
    "        self.baseUrl = f'{hostname}/api/v1'\n",
    "        self.authToken = None\n",
    "\n",
    "        if username is not None:\n",
    "            if password is None:\n",
    "                password = input(f'Password for user \"{username}\":')\n",
    "            self.authToken = self._login(username, password)\n",
    "\n",
    "    def _makeUrl(self, endpoint):\n",
    "        return f'{self.baseUrl}/{endpoint}'\n",
    "\n",
    "    def _login(self, username, password):\n",
    "        authResponse = requests.get(\n",
    "            self._makeUrl('user/authentication'),\n",
    "            auth=(username, password)\n",
    "        )\n",
    "        if not authResponse.ok:\n",
    "            raise Exception(f'Login error: {authResponse.json()[\"message\"]}')\n",
    "\n",
    "        authToken = authResponse.json()['authToken']['token']\n",
    "        return authToken\n",
    "\n",
    "    def get(self, endpoint):\n",
    "        url = self._makeUrl(endpoint)\n",
    "        headers = {'Girder-Token': self.authToken} if self.authToken else None\n",
    "        return requests.get(url, headers=headers)\n",
    "\n",
    "    def getJson(self, endpoint):\n",
    "        return self.get(endpoint).json()\n",
    "\n",
    "    def getJsonList(self, endpoint):\n",
    "        endpoint += '&' if '?' in endpoint else '?'\n",
    "        LIMIT = 50\n",
    "        offset = 0\n",
    "        while True:\n",
    "            resp = self.get(\n",
    "                f'{endpoint}limit={LIMIT:d}&offset={offset:d}'\n",
    "            ).json()\n",
    "            if not resp:\n",
    "                break\n",
    "            for elem in resp:\n",
    "                yield elem\n",
    "            offset += LIMIT\n"
   ]
  },
  {
   "cell_type": "markdown",
   "metadata": {},
   "source": [
    "# Get list of images names"
   ]
  },
  {
   "cell_type": "code",
   "execution_count": 4,
   "metadata": {},
   "outputs": [
    {
     "name": "stdout",
     "output_type": "stream",
     "text": [
      "Requested 23906 images names\n"
     ]
    }
   ],
   "source": [
    "#Insert Username and Password Below\n",
    "api = ISICApi(username=\"veaxvoid\", password=\"ZXCASD123qweasd\")\n",
    "\n",
    "limit = 24000\n",
    "offset = 0\n",
    "\n",
    "image_list = api.getJson('image?limit={}&offset={}&sort=name'.format(limit, offset))\n",
    "print('Requested {} images names'.format(len(image_list)))"
   ]
  },
  {
   "cell_type": "code",
   "execution_count": 6,
   "metadata": {},
   "outputs": [],
   "source": [
    "'''\n",
    "Spesify output folders\n",
    "'''\n",
    "meta_dir = 'ISIC'\n",
    "img_dir = meta_dir + '/images'\n",
    "mask_dir = meta_dir + '/masks'\n",
    "img_info_dir = meta_dir + '/info_images'\n",
    "mask_info_dir = meta_dir + '/info_masks'\n",
    "imgs_filename = 'imagedata'\n",
    "mask_filename = 'masksdata'\n",
    "\n",
    "if not os.path.exists(meta_dir): os.makedirs(meta_dir)\n",
    "if not os.path.exists(img_dir): os.makedirs(img_dir)\n",
    "if not os.path.exists(mask_dir): os.makedirs(mask_dir)\n",
    "if not os.path.exists(img_info_dir): os.makedirs(img_info_dir)\n",
    "if not os.path.exists(mask_info_dir): os.makedirs(mask_info_dir)"
   ]
  },
  {
   "cell_type": "code",
   "execution_count": 5,
   "metadata": {},
   "outputs": [],
   "source": [
    "'''\n",
    "Load info for each img\n",
    "'''\n",
    "def load_img_info(img_id, img_name):\n",
    "    image_info = api.getJson('image/{}'.format(img_id))\n",
    "    \n",
    "    if image_info['dataset']['name'] != 'SONIC':\n",
    "        file_path = os.path.join(img_info_dir, img_name+'.json')\n",
    "        file = open(file_path, \"w\")\n",
    "        json.dump(image_info, file)\n",
    "        file.close()\n",
    "    \n",
    "imgs_id = [info['_id'] for info in image_list]\n",
    "imgs_name = [info['name'] for info in image_list]\n",
    "\n",
    "with ThreadPoolExecutor(12) as e: e.map(load_img_info, imgs_id, imgs_name)"
   ]
  },
  {
   "cell_type": "code",
   "execution_count": 6,
   "metadata": {},
   "outputs": [
    {
     "name": "stdout",
     "output_type": "stream",
     "text": [
      "Number of valid images: 14655\n"
     ]
    }
   ],
   "source": [
    "'''\n",
    "Collect all image info from json files in to csv table\n",
    "'''\n",
    "# read filenames in infoimages dir\n",
    "infoimgs_filenames = sorted([f for f in os.listdir(img_info_dir)])\n",
    "\n",
    "image_details = []\n",
    "\n",
    "for img_name in infoimgs_filenames:\n",
    "    file_path = os.path.join(img_info_dir, img_name)\n",
    "    file = open(file_path, 'r')\n",
    "    info = json.load(file)\n",
    "    file.close()\n",
    "    \n",
    "    image_details += [info]\n",
    "\n",
    "print('Number of valid images: {}'.format(len(image_details)))"
   ]
  },
  {
   "cell_type": "code",
   "execution_count": 7,
   "metadata": {},
   "outputs": [
    {
     "name": "stdout",
     "output_type": "stream",
     "text": [
      "Writing metadata to CSV: imagedata.csv\n"
     ]
    }
   ],
   "source": [
    "'''\n",
    "Image info to csv\n",
    "'''\n",
    "file_path = os.path.join(meta_dir, imgs_filename+'.csv')\n",
    "\n",
    "# Determine the union of all image metadata fields\n",
    "metadata_fields = set(\n",
    "    field\n",
    "    for image_detail in image_details\n",
    "    for field in image_detail['meta']['clinical'].keys()\n",
    ")\n",
    "metadata_fields = ['isic_name','isic_id'] + sorted(metadata_fields) + ['dataset_name']\n",
    "\n",
    "# Write the metadata to a CSV\n",
    "print('Writing metadata to CSV: {}'.format(imgs_filename+'.csv'))\n",
    "\n",
    "with open(file_path, 'w') as outputStream:\n",
    "    csvWriter = csv.DictWriter(outputStream, metadata_fields)\n",
    "    csvWriter.writeheader()\n",
    "    \n",
    "    for image_detail in image_details:\n",
    "        row_dict = image_detail['meta']['clinical'].copy()\n",
    "        row_dict['isic_name'] = image_detail['name']\n",
    "        row_dict['isic_id'] = image_detail['_id']\n",
    "        row_dict['dataset_name'] = image_detail['dataset']['name']\n",
    "        csvWriter.writerow(row_dict)"
   ]
  },
  {
   "cell_type": "code",
   "execution_count": 7,
   "metadata": {},
   "outputs": [
    {
     "data": {
      "text/html": [
       "<div>\n",
       "<style scoped>\n",
       "    .dataframe tbody tr th:only-of-type {\n",
       "        vertical-align: middle;\n",
       "    }\n",
       "\n",
       "    .dataframe tbody tr th {\n",
       "        vertical-align: top;\n",
       "    }\n",
       "\n",
       "    .dataframe thead th {\n",
       "        text-align: right;\n",
       "    }\n",
       "</style>\n",
       "<table border=\"1\" class=\"dataframe\">\n",
       "  <thead>\n",
       "    <tr style=\"text-align: right;\">\n",
       "      <th></th>\n",
       "      <th>isic_name</th>\n",
       "      <th>isic_id</th>\n",
       "      <th>age_approx</th>\n",
       "      <th>anatom_site_general</th>\n",
       "      <th>benign_malignant</th>\n",
       "      <th>clin_size_long_diam_mm</th>\n",
       "      <th>diagnosis</th>\n",
       "      <th>diagnosis_confirm_type</th>\n",
       "      <th>family_hx_mm</th>\n",
       "      <th>mel_class</th>\n",
       "      <th>mel_thick_mm</th>\n",
       "      <th>melanocytic</th>\n",
       "      <th>nevus_type</th>\n",
       "      <th>personal_hx_mm</th>\n",
       "      <th>sex</th>\n",
       "      <th>dataset_name</th>\n",
       "    </tr>\n",
       "  </thead>\n",
       "  <tbody>\n",
       "    <tr>\n",
       "      <th>14650</th>\n",
       "      <td>ISIC_0034317</td>\n",
       "      <td>5aaf162711659769136471fb</td>\n",
       "      <td>70.0</td>\n",
       "      <td>lower extremity</td>\n",
       "      <td>malignant</td>\n",
       "      <td>NaN</td>\n",
       "      <td>melanoma</td>\n",
       "      <td>histopathology</td>\n",
       "      <td>NaN</td>\n",
       "      <td>NaN</td>\n",
       "      <td>NaN</td>\n",
       "      <td>True</td>\n",
       "      <td>NaN</td>\n",
       "      <td>NaN</td>\n",
       "      <td>female</td>\n",
       "      <td>HAM10000</td>\n",
       "    </tr>\n",
       "    <tr>\n",
       "      <th>14651</th>\n",
       "      <td>ISIC_0034318</td>\n",
       "      <td>5aaf16271165976913647206</td>\n",
       "      <td>55.0</td>\n",
       "      <td>NaN</td>\n",
       "      <td>NaN</td>\n",
       "      <td>NaN</td>\n",
       "      <td>pigmented benign keratosis</td>\n",
       "      <td>histopathology</td>\n",
       "      <td>NaN</td>\n",
       "      <td>NaN</td>\n",
       "      <td>NaN</td>\n",
       "      <td>False</td>\n",
       "      <td>NaN</td>\n",
       "      <td>NaN</td>\n",
       "      <td>male</td>\n",
       "      <td>HAM10000</td>\n",
       "    </tr>\n",
       "    <tr>\n",
       "      <th>14652</th>\n",
       "      <td>ISIC_0034319</td>\n",
       "      <td>5aaf16271165976913647214</td>\n",
       "      <td>30.0</td>\n",
       "      <td>NaN</td>\n",
       "      <td>benign</td>\n",
       "      <td>NaN</td>\n",
       "      <td>nevus</td>\n",
       "      <td>histopathology</td>\n",
       "      <td>NaN</td>\n",
       "      <td>NaN</td>\n",
       "      <td>NaN</td>\n",
       "      <td>True</td>\n",
       "      <td>NaN</td>\n",
       "      <td>NaN</td>\n",
       "      <td>male</td>\n",
       "      <td>HAM10000</td>\n",
       "    </tr>\n",
       "    <tr>\n",
       "      <th>14653</th>\n",
       "      <td>ISIC_0034320</td>\n",
       "      <td>5aaf16271165976913647223</td>\n",
       "      <td>25.0</td>\n",
       "      <td>anterior torso</td>\n",
       "      <td>benign</td>\n",
       "      <td>NaN</td>\n",
       "      <td>nevus</td>\n",
       "      <td>histopathology</td>\n",
       "      <td>NaN</td>\n",
       "      <td>NaN</td>\n",
       "      <td>NaN</td>\n",
       "      <td>True</td>\n",
       "      <td>NaN</td>\n",
       "      <td>NaN</td>\n",
       "      <td>female</td>\n",
       "      <td>HAM10000</td>\n",
       "    </tr>\n",
       "    <tr>\n",
       "      <th>14654</th>\n",
       "      <td>ISIC_0036065</td>\n",
       "      <td>5ab2d0441165976819ab1566</td>\n",
       "      <td>80.0</td>\n",
       "      <td>NaN</td>\n",
       "      <td>malignant</td>\n",
       "      <td>NaN</td>\n",
       "      <td>melanoma</td>\n",
       "      <td>histopathology</td>\n",
       "      <td>NaN</td>\n",
       "      <td>melanoma in situ</td>\n",
       "      <td>0.0</td>\n",
       "      <td>True</td>\n",
       "      <td>NaN</td>\n",
       "      <td>NaN</td>\n",
       "      <td>male</td>\n",
       "      <td>2018 JID Editorial Images</td>\n",
       "    </tr>\n",
       "  </tbody>\n",
       "</table>\n",
       "</div>"
      ],
      "text/plain": [
       "          isic_name                   isic_id  age_approx anatom_site_general  \\\n",
       "14650  ISIC_0034317  5aaf162711659769136471fb        70.0     lower extremity   \n",
       "14651  ISIC_0034318  5aaf16271165976913647206        55.0                 NaN   \n",
       "14652  ISIC_0034319  5aaf16271165976913647214        30.0                 NaN   \n",
       "14653  ISIC_0034320  5aaf16271165976913647223        25.0      anterior torso   \n",
       "14654  ISIC_0036065  5ab2d0441165976819ab1566        80.0                 NaN   \n",
       "\n",
       "      benign_malignant  clin_size_long_diam_mm                   diagnosis  \\\n",
       "14650        malignant                     NaN                    melanoma   \n",
       "14651              NaN                     NaN  pigmented benign keratosis   \n",
       "14652           benign                     NaN                       nevus   \n",
       "14653           benign                     NaN                       nevus   \n",
       "14654        malignant                     NaN                    melanoma   \n",
       "\n",
       "      diagnosis_confirm_type family_hx_mm         mel_class  mel_thick_mm  \\\n",
       "14650         histopathology          NaN               NaN           NaN   \n",
       "14651         histopathology          NaN               NaN           NaN   \n",
       "14652         histopathology          NaN               NaN           NaN   \n",
       "14653         histopathology          NaN               NaN           NaN   \n",
       "14654         histopathology          NaN  melanoma in situ           0.0   \n",
       "\n",
       "      melanocytic nevus_type personal_hx_mm     sex               dataset_name  \n",
       "14650        True        NaN            NaN  female                   HAM10000  \n",
       "14651       False        NaN            NaN    male                   HAM10000  \n",
       "14652        True        NaN            NaN    male                   HAM10000  \n",
       "14653        True        NaN            NaN  female                   HAM10000  \n",
       "14654        True        NaN            NaN    male  2018 JID Editorial Images  "
      ]
     },
     "execution_count": 7,
     "metadata": {},
     "output_type": "execute_result"
    }
   ],
   "source": [
    "file_path = os.path.join(meta_dir, imgs_filename+'.csv')\n",
    "data = pd.read_csv(file_path)\n",
    "\n",
    "images_ids = list(data['isic_id'])\n",
    "images_names = list(data['isic_name'])\n",
    "\n",
    "data.tail()"
   ]
  },
  {
   "cell_type": "code",
   "execution_count": 8,
   "metadata": {},
   "outputs": [
    {
     "name": "stdout",
     "output_type": "stream",
     "text": [
      "Data summary:\n"
     ]
    },
    {
     "data": {
      "text/plain": [
       "{'nevus': 9315,\n",
       " 'melanoma': 2169,\n",
       " nan: 0,\n",
       " 'seborrheic keratosis': 419,\n",
       " 'lichenoid keratosis': 1,\n",
       " 'dermatofibroma': 122,\n",
       " 'angioma': 15,\n",
       " 'basal cell carcinoma': 587,\n",
       " 'solar lentigo': 57,\n",
       " 'lentigo NOS': 71,\n",
       " 'atypical melanocytic proliferation': 13,\n",
       " 'lentigo simplex': 27,\n",
       " 'actinic keratosis': 132,\n",
       " 'other': 10,\n",
       " 'angiofibroma or fibrous papule': 1,\n",
       " 'squamous cell carcinoma': 225,\n",
       " 'scar': 1,\n",
       " 'pigmented benign keratosis': 1099,\n",
       " 'vascular lesion': 142}"
      ]
     },
     "execution_count": 8,
     "metadata": {},
     "output_type": "execute_result"
    }
   ],
   "source": [
    "info_sum = {d:(data['diagnosis'] == d).sum() for d in data['diagnosis'].unique()}\n",
    "print('Data summary:')\n",
    "info_sum"
   ]
  },
  {
   "cell_type": "markdown",
   "metadata": {},
   "source": [
    "# Load images"
   ]
  },
  {
   "cell_type": "code",
   "execution_count": 9,
   "metadata": {},
   "outputs": [],
   "source": [
    "def load_imgs(img_id, img_name):\n",
    "    img_file = api.get('image/{}/download'.format(img_id))\n",
    "    img_file.raise_for_status()\n",
    "    file_path = os.path.join(img_dir, '{}.png'.format(img_name))\n",
    "  \n",
    "    with open(file_path, 'wb') as out_stream:\n",
    "        for chunk in img_file:\n",
    "            out_stream.write(chunk)\n",
    "    \n",
    "with ThreadPoolExecutor(12) as e: e.map(load_imgs, images_ids, images_names)"
   ]
  },
  {
   "cell_type": "markdown",
   "metadata": {},
   "source": [
    "# Load segmentation masks "
   ]
  },
  {
   "cell_type": "code",
   "execution_count": null,
   "metadata": {},
   "outputs": [],
   "source": [
    "# load segmentation data\n",
    "\n",
    "def load_mask_info(img_id, img_name):\n",
    "    segmentation_data = api.getJson('segmentation?imageId={}'.format(img_id))\n",
    "    \n",
    "    file_path = os.path.join(mask_info_dir, img_name+'.json')\n",
    "    file = open(file_path, \"w\")\n",
    "    json.dump(segmentation_data, file)\n",
    "    file.close()\n",
    "    \n",
    "with ThreadPoolExecutor(12) as e: e.map(load_mask_info, images_ids, images_names)"
   ]
  },
  {
   "cell_type": "code",
   "execution_count": 34,
   "metadata": {},
   "outputs": [
    {
     "name": "stdout",
     "output_type": "stream",
     "text": [
      "Number of segmentation info files: 4528\n"
     ]
    }
   ],
   "source": [
    "'''\n",
    "Collect all VALID masks info from json files \n",
    "'''\n",
    "segmentation_details = []\n",
    "\n",
    "for img_name in images_names:\n",
    "    file_path = os.path.join(mask_info_dir, img_name+'.json')\n",
    "    file = open(file_path, 'r')\n",
    "    info = json.load(file)\n",
    "    file.close()\n",
    "    \n",
    "    if info:\n",
    "        if not info[0]['failed']:\n",
    "            segmentation_details += [info[0]]\n",
    "            segmentation_details[-1]['name'] = img_name\n",
    "\n",
    "print('Number of segmentation info files: {}'.format(len(segmentation_details)))"
   ]
  },
  {
   "cell_type": "code",
   "execution_count": 47,
   "metadata": {},
   "outputs": [
    {
     "name": "stdout",
     "output_type": "stream",
     "text": [
      "Writing metadata to CSV: masksdata.csv\n"
     ]
    }
   ],
   "source": [
    "'''\n",
    "Masks info to csv\n",
    "'''\n",
    "file_path = os.path.join(meta_dir, mask_filename+'.csv')\n",
    "\n",
    "# Determine the union of all image metadata fields\n",
    "metadata_fields = set(\n",
    "    segmentation_details[0].keys()\n",
    ")\n",
    "\n",
    "metadata_fields = sorted(metadata_fields)\n",
    "\n",
    "# Write the metadata to a CSV\n",
    "print('Writing metadata to CSV: {}'.format(mask_filename+'.csv'))\n",
    "\n",
    "with open(file_path, 'w') as outputStream:\n",
    "    csvWriter = csv.DictWriter(outputStream, metadata_fields)\n",
    "    csvWriter.writeheader()\n",
    "    \n",
    "    k=-1\n",
    "    for info in segmentation_details:\n",
    "        k+=1\n",
    "        row_dict = info.copy()\n",
    "        csvWriter.writerow(row_dict)\n"
   ]
  },
  {
   "cell_type": "code",
   "execution_count": 48,
   "metadata": {},
   "outputs": [
    {
     "data": {
      "text/html": [
       "<div>\n",
       "<style scoped>\n",
       "    .dataframe tbody tr th:only-of-type {\n",
       "        vertical-align: middle;\n",
       "    }\n",
       "\n",
       "    .dataframe tbody tr th {\n",
       "        vertical-align: top;\n",
       "    }\n",
       "\n",
       "    .dataframe thead th {\n",
       "        text-align: right;\n",
       "    }\n",
       "</style>\n",
       "<table border=\"1\" class=\"dataframe\">\n",
       "  <thead>\n",
       "    <tr style=\"text-align: right;\">\n",
       "      <th></th>\n",
       "      <th>_id</th>\n",
       "      <th>created</th>\n",
       "      <th>failed</th>\n",
       "      <th>name</th>\n",
       "      <th>skill</th>\n",
       "    </tr>\n",
       "  </thead>\n",
       "  <tbody>\n",
       "    <tr>\n",
       "      <th>0</th>\n",
       "      <td>5463934bbae47821f88025ad</td>\n",
       "      <td>2014-11-12T17:05:15.624000+00:00</td>\n",
       "      <td>False</td>\n",
       "      <td>ISIC_0000000</td>\n",
       "      <td>expert</td>\n",
       "    </tr>\n",
       "    <tr>\n",
       "      <th>1</th>\n",
       "      <td>545d0fadbae47821f880257b</td>\n",
       "      <td>2014-11-07T18:30:05.422000+00:00</td>\n",
       "      <td>False</td>\n",
       "      <td>ISIC_0000001</td>\n",
       "      <td>expert</td>\n",
       "    </tr>\n",
       "    <tr>\n",
       "      <th>2</th>\n",
       "      <td>545d0c6bbae47821f880256c</td>\n",
       "      <td>2014-11-07T18:16:11.251000+00:00</td>\n",
       "      <td>False</td>\n",
       "      <td>ISIC_0000002</td>\n",
       "      <td>expert</td>\n",
       "    </tr>\n",
       "    <tr>\n",
       "      <th>3</th>\n",
       "      <td>545d0aeabae47821f880255c</td>\n",
       "      <td>2014-11-07T18:09:46.020000+00:00</td>\n",
       "      <td>False</td>\n",
       "      <td>ISIC_0000003</td>\n",
       "      <td>expert</td>\n",
       "    </tr>\n",
       "    <tr>\n",
       "      <th>4</th>\n",
       "      <td>54ea8ac3bae47871b5e00cd2</td>\n",
       "      <td>2015-02-23T02:04:51.455000+00:00</td>\n",
       "      <td>False</td>\n",
       "      <td>ISIC_0000004</td>\n",
       "      <td>expert</td>\n",
       "    </tr>\n",
       "  </tbody>\n",
       "</table>\n",
       "</div>"
      ],
      "text/plain": [
       "                        _id                           created  failed  \\\n",
       "0  5463934bbae47821f88025ad  2014-11-12T17:05:15.624000+00:00   False   \n",
       "1  545d0fadbae47821f880257b  2014-11-07T18:30:05.422000+00:00   False   \n",
       "2  545d0c6bbae47821f880256c  2014-11-07T18:16:11.251000+00:00   False   \n",
       "3  545d0aeabae47821f880255c  2014-11-07T18:09:46.020000+00:00   False   \n",
       "4  54ea8ac3bae47871b5e00cd2  2015-02-23T02:04:51.455000+00:00   False   \n",
       "\n",
       "           name   skill  \n",
       "0  ISIC_0000000  expert  \n",
       "1  ISIC_0000001  expert  \n",
       "2  ISIC_0000002  expert  \n",
       "3  ISIC_0000003  expert  \n",
       "4  ISIC_0000004  expert  "
      ]
     },
     "execution_count": 48,
     "metadata": {},
     "output_type": "execute_result"
    }
   ],
   "source": [
    "data = pd.read_csv(file_path)\n",
    "data.head()"
   ]
  },
  {
   "cell_type": "code",
   "execution_count": 50,
   "metadata": {},
   "outputs": [],
   "source": [
    "def load_mask(mask_id, img_name):\n",
    "    img_file = api.get('segmentation/{}/mask'.format(mask_id))\n",
    "    img_file.raise_for_status()\n",
    "    file_path = os.path.join(mask_dir, '{}_mask.png'.format(img_name))\n",
    "\n",
    "    with open(file_path, 'wb') as out_stream:\n",
    "        for chunk in img_file:\n",
    "            out_stream.write(chunk)    \n",
    "            \n",
    "masks_names = list(data['name'])\n",
    "masks_id = list(data['_id'])\n",
    "\n",
    "with ThreadPoolExecutor(12) as e: e.map(load_mask, masks_id, masks_names)"
   ]
  }
 ],
 "metadata": {
  "kernelspec": {
   "display_name": "Python 3",
   "language": "python",
   "name": "python3"
  },
  "language_info": {
   "codemirror_mode": {
    "name": "ipython",
    "version": 3
   },
   "file_extension": ".py",
   "mimetype": "text/x-python",
   "name": "python",
   "nbconvert_exporter": "python",
   "pygments_lexer": "ipython3",
   "version": "3.7.7"
  }
 },
 "nbformat": 4,
 "nbformat_minor": 4
}
