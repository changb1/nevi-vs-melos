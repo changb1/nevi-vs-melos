{
 "cells": [
  {
   "cell_type": "markdown",
   "metadata": {},
   "source": [
    "# Data collector\n",
    "Data loader from ISIC"
   ]
  },
  {
   "cell_type": "code",
   "execution_count": 1,
   "metadata": {},
   "outputs": [],
   "source": [
    "''' \n",
    "Load libs \n",
    "'''\n",
    "import csv\n",
    "import os\n",
    "import numpy as np\n",
    "\n",
    "from concurrent.futures import ThreadPoolExecutor"
   ]
  },
  {
   "cell_type": "markdown",
   "metadata": {},
   "source": [
    "# Make ISIC API requester "
   ]
  },
  {
   "cell_type": "code",
   "execution_count": 2,
   "metadata": {},
   "outputs": [],
   "source": [
    "'''\n",
    "Make ISIC Api request class\n",
    "'''\n",
    "import requests\n",
    "\n",
    "class ISICApi(object):\n",
    "    def __init__(self, hostname='https://isic-archive.com',\n",
    "                 username=None, password=None):\n",
    "        self.baseUrl = f'{hostname}/api/v1'\n",
    "        self.authToken = None\n",
    "\n",
    "        if username is not None:\n",
    "            if password is None:\n",
    "                password = input(f'Password for user \"{username}\":')\n",
    "            self.authToken = self._login(username, password)\n",
    "\n",
    "    def _makeUrl(self, endpoint):\n",
    "        return f'{self.baseUrl}/{endpoint}'\n",
    "\n",
    "    def _login(self, username, password):\n",
    "        authResponse = requests.get(\n",
    "            self._makeUrl('user/authentication'),\n",
    "            auth=(username, password)\n",
    "        )\n",
    "        if not authResponse.ok:\n",
    "            raise Exception(f'Login error: {authResponse.json()[\"message\"]}')\n",
    "\n",
    "        authToken = authResponse.json()['authToken']['token']\n",
    "        return authToken\n",
    "\n",
    "    def get(self, endpoint):\n",
    "        url = self._makeUrl(endpoint)\n",
    "        headers = {'Girder-Token': self.authToken} if self.authToken else None\n",
    "        return requests.get(url, headers=headers)\n",
    "\n",
    "    def getJson(self, endpoint):\n",
    "        return self.get(endpoint).json()\n",
    "\n",
    "    def getJsonList(self, endpoint):\n",
    "        endpoint += '&' if '?' in endpoint else '?'\n",
    "        LIMIT = 50\n",
    "        offset = 0\n",
    "        while True:\n",
    "            resp = self.get(\n",
    "                f'{endpoint}limit={LIMIT:d}&offset={offset:d}'\n",
    "            ).json()\n",
    "            if not resp:\n",
    "                break\n",
    "            for elem in resp:\n",
    "                yield elem\n",
    "            offset += LIMIT\n"
   ]
  },
  {
   "cell_type": "markdown",
   "metadata": {},
   "source": [
    "# Get list of images names"
   ]
  },
  {
   "cell_type": "code",
   "execution_count": 3,
   "metadata": {},
   "outputs": [],
   "source": [
    "#Insert Username and Password Below\n",
    "api = ISICApi(username=\"veaxvoid\", password=\"ZXCASD123qweasd\")\n",
    "\n",
    "limit = 10\n",
    "\n",
    "image_list = api.getJson('image?limit={}&offset=0&sort=name'.format(limit))"
   ]
  },
  {
   "cell_type": "code",
   "execution_count": 4,
   "metadata": {},
   "outputs": [],
   "source": [
    "'''\n",
    "Spesify output folders\n",
    "'''\n",
    "meta_dir = 'ISIC'\n",
    "img_dir = meta_dir + '/images'\n",
    "mask_dir = meta_dir + '/masks'\n",
    "img_info_dir = meta_dir + '/info_images'\n",
    "mask_info_dir = meta_dir + '/info_masks'\n",
    "meta_filename = 'imagedata'\n",
    "\n",
    "if not os.path.exists(meta_dir): os.makedirs(meta_dir)\n",
    "if not os.path.exists(img_dir): os.makedirs(img_dir)\n",
    "if not os.path.exists(mask_dir): os.makedirs(mask_dir)\n",
    "if not os.path.exists(img_info_dir): os.makedirs(img_info_dir)\n",
    "if not os.path.exists(mask_info_dir): os.makedirs(mask_info_dir)"
   ]
  },
  {
   "cell_type": "code",
   "execution_count": 5,
   "metadata": {},
   "outputs": [],
   "source": [
    "'''\n",
    "Load info for each img\n",
    "'''\n",
    "import json\n",
    "\n",
    "def load_img_info(img_id, img_name):\n",
    "    image_info = api.getJson('image/{}'.format(img_id))\n",
    "    \n",
    "    file_path = os.path.join(img_info_dir, img_name+'.json')\n",
    "    file = open(file_path, \"a\")\n",
    "    json.dump(image_info, file)\n",
    "    file.close()\n",
    "    \n",
    "imgs_id = [info['_id'] for info in image_list]\n",
    "imgs_name = [info['name'] for info in image_list]\n",
    "\n",
    "with ThreadPoolExecutor(10) as e: e.map(load_img_info, imgs_id, imgs_name)"
   ]
  },
  {
   "cell_type": "code",
   "execution_count": 6,
   "metadata": {},
   "outputs": [],
   "source": [
    "# collect all image info from json files in to csv table\n",
    "image_details = []\n",
    "\n",
    "for img_name in imgs_name:\n",
    "    file_path = os.path.join(img_info_dir, img_name+'.json')\n",
    "    file = open(file_path, 'r')\n",
    "    info = json.load(file)\n",
    "    file.close()\n",
    "    \n",
    "    image_details += [info]"
   ]
  },
  {
   "cell_type": "code",
   "execution_count": 7,
   "metadata": {},
   "outputs": [
    {
     "name": "stdout",
     "output_type": "stream",
     "text": [
      "Writing metadata to CSV: imagedata.csv\n"
     ]
    }
   ],
   "source": [
    "file_path = os.path.join(meta_dir, meta_filename+'.csv')\n",
    "\n",
    "# Determine the union of all image metadata fields\n",
    "metadata_fields = set(\n",
    "    field\n",
    "    for image_detail in image_details\n",
    "    for field in image_detail['meta']['clinical'].keys()\n",
    ")\n",
    "metadata_fields = ['isic_id'] + sorted(metadata_fields)\n",
    "\n",
    "# Write the metadata to a CSV\n",
    "print('Writing metadata to CSV: {}'.format(meta_filename+'.csv'))\n",
    "\n",
    "with open(file_path, 'w') as outputStream:\n",
    "    csvWriter = csv.DictWriter(outputStream, metadata_fields)\n",
    "    csvWriter.writeheader()\n",
    "    \n",
    "    for image_detail in image_details:\n",
    "        row_dict = image_detail['meta']['clinical'].copy()\n",
    "        row_dict['isic_id'] = image_detail['name']\n",
    "        csvWriter.writerow(row_dict)"
   ]
  },
  {
   "cell_type": "code",
   "execution_count": 8,
   "metadata": {},
   "outputs": [
    {
     "data": {
      "text/html": [
       "<div>\n",
       "<style scoped>\n",
       "    .dataframe tbody tr th:only-of-type {\n",
       "        vertical-align: middle;\n",
       "    }\n",
       "\n",
       "    .dataframe tbody tr th {\n",
       "        vertical-align: top;\n",
       "    }\n",
       "\n",
       "    .dataframe thead th {\n",
       "        text-align: right;\n",
       "    }\n",
       "</style>\n",
       "<table border=\"1\" class=\"dataframe\">\n",
       "  <thead>\n",
       "    <tr style=\"text-align: right;\">\n",
       "      <th></th>\n",
       "      <th>isic_id</th>\n",
       "      <th>age_approx</th>\n",
       "      <th>anatom_site_general</th>\n",
       "      <th>benign_malignant</th>\n",
       "      <th>diagnosis</th>\n",
       "      <th>diagnosis_confirm_type</th>\n",
       "      <th>melanocytic</th>\n",
       "      <th>sex</th>\n",
       "    </tr>\n",
       "  </thead>\n",
       "  <tbody>\n",
       "    <tr>\n",
       "      <th>5</th>\n",
       "      <td>ISIC_0000005</td>\n",
       "      <td>40</td>\n",
       "      <td>anterior torso</td>\n",
       "      <td>benign</td>\n",
       "      <td>nevus</td>\n",
       "      <td>NaN</td>\n",
       "      <td>True</td>\n",
       "      <td>female</td>\n",
       "    </tr>\n",
       "    <tr>\n",
       "      <th>6</th>\n",
       "      <td>ISIC_0000006</td>\n",
       "      <td>25</td>\n",
       "      <td>posterior torso</td>\n",
       "      <td>benign</td>\n",
       "      <td>nevus</td>\n",
       "      <td>NaN</td>\n",
       "      <td>True</td>\n",
       "      <td>female</td>\n",
       "    </tr>\n",
       "    <tr>\n",
       "      <th>7</th>\n",
       "      <td>ISIC_0000007</td>\n",
       "      <td>25</td>\n",
       "      <td>posterior torso</td>\n",
       "      <td>benign</td>\n",
       "      <td>nevus</td>\n",
       "      <td>NaN</td>\n",
       "      <td>True</td>\n",
       "      <td>female</td>\n",
       "    </tr>\n",
       "    <tr>\n",
       "      <th>8</th>\n",
       "      <td>ISIC_0000008</td>\n",
       "      <td>30</td>\n",
       "      <td>anterior torso</td>\n",
       "      <td>benign</td>\n",
       "      <td>nevus</td>\n",
       "      <td>NaN</td>\n",
       "      <td>True</td>\n",
       "      <td>female</td>\n",
       "    </tr>\n",
       "    <tr>\n",
       "      <th>9</th>\n",
       "      <td>ISIC_0000009</td>\n",
       "      <td>30</td>\n",
       "      <td>anterior torso</td>\n",
       "      <td>benign</td>\n",
       "      <td>nevus</td>\n",
       "      <td>NaN</td>\n",
       "      <td>True</td>\n",
       "      <td>female</td>\n",
       "    </tr>\n",
       "  </tbody>\n",
       "</table>\n",
       "</div>"
      ],
      "text/plain": [
       "        isic_id  age_approx anatom_site_general benign_malignant diagnosis  \\\n",
       "5  ISIC_0000005          40      anterior torso           benign     nevus   \n",
       "6  ISIC_0000006          25     posterior torso           benign     nevus   \n",
       "7  ISIC_0000007          25     posterior torso           benign     nevus   \n",
       "8  ISIC_0000008          30      anterior torso           benign     nevus   \n",
       "9  ISIC_0000009          30      anterior torso           benign     nevus   \n",
       "\n",
       "  diagnosis_confirm_type  melanocytic     sex  \n",
       "5                    NaN         True  female  \n",
       "6                    NaN         True  female  \n",
       "7                    NaN         True  female  \n",
       "8                    NaN         True  female  \n",
       "9                    NaN         True  female  "
      ]
     },
     "execution_count": 8,
     "metadata": {},
     "output_type": "execute_result"
    }
   ],
   "source": [
    "import pandas as pd\n",
    "data = pd.read_csv(file_path)\n",
    "data.tail()"
   ]
  },
  {
   "cell_type": "markdown",
   "metadata": {},
   "source": [
    "# Load images"
   ]
  },
  {
   "cell_type": "code",
   "execution_count": 9,
   "metadata": {},
   "outputs": [],
   "source": [
    "def load_imgs(img_id, img_name):\n",
    "    img_file = api.get('image/{}/download'.format(img_id))\n",
    "    img_file.raise_for_status()\n",
    "    file_path = os.path.join(img_dir, '{}.png'.format(img_name))\n",
    "  \n",
    "    with open(file_path, 'wb') as out_stream:\n",
    "        for chunk in img_file:\n",
    "            out_stream.write(chunk)\n",
    "    \n",
    "with ThreadPoolExecutor(10) as e: e.map(load_imgs, imgs_id, imgs_name)"
   ]
  },
  {
   "cell_type": "markdown",
   "metadata": {},
   "source": [
    "# Load segmentation masks "
   ]
  },
  {
   "cell_type": "code",
   "execution_count": 10,
   "metadata": {},
   "outputs": [],
   "source": [
    "# load segmentation data\n",
    "\n",
    "def load_mask_info(img_id, img_name):\n",
    "    segmentation_data = api.getJson('segmentation?imageId={}'.format(img_id))\n",
    "    \n",
    "    file_path = os.path.join(mask_info_dir, img_name+'.json')\n",
    "    file = open(file_path, \"w\")\n",
    "    json.dump(segmentation_data, file)\n",
    "    file.close()\n",
    "    \n",
    "with ThreadPoolExecutor(10) as e: e.map(load_mask_info, imgs_id, imgs_name)"
   ]
  },
  {
   "cell_type": "code",
   "execution_count": 11,
   "metadata": {},
   "outputs": [],
   "source": [
    "# collect all masks info from json files \n",
    "segmentation_details = []\n",
    "\n",
    "for img_name in imgs_name:\n",
    "    file_path = os.path.join(mask_info_dir, img_name+'.json')\n",
    "    file = open(file_path, 'r')\n",
    "    info = json.load(file)\n",
    "    file.close()\n",
    "    \n",
    "    segmentation_details += [info[0]]\n"
   ]
  },
  {
   "cell_type": "code",
   "execution_count": 12,
   "metadata": {},
   "outputs": [],
   "source": [
    "def load_mask(mask_id, img_name):\n",
    "    img_file = api.get('segmentation/{}/mask'.format(mask_id))\n",
    "    img_file.raise_for_status()\n",
    "    file_path = os.path.join(mask_dir, '{}_mask.png'.format(img_name))\n",
    "\n",
    "    with open(file_path, 'wb') as out_stream:\n",
    "        for chunk in img_file:\n",
    "            out_stream.write(chunk)    \n",
    "            \n",
    "masks_id = [info['_id'] for info in segmentation_details]\n",
    "\n",
    "with ThreadPoolExecutor(10) as e: e.map(load_mask, masks_id, imgs_name)"
   ]
  }
 ],
 "metadata": {
  "kernelspec": {
   "display_name": "Python 3",
   "language": "python",
   "name": "python3"
  },
  "language_info": {
   "codemirror_mode": {
    "name": "ipython",
    "version": 3
   },
   "file_extension": ".py",
   "mimetype": "text/x-python",
   "name": "python",
   "nbconvert_exporter": "python",
   "pygments_lexer": "ipython3",
   "version": "3.7.7"
  }
 },
 "nbformat": 4,
 "nbformat_minor": 4
}
