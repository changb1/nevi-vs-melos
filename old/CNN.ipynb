{
 "cells": [
  {
   "cell_type": "markdown",
   "metadata": {},
   "source": [
    "# Data sorting\n",
    "Make a train, validation and test data folders"
   ]
  },
  {
   "cell_type": "code",
   "execution_count": 1,
   "metadata": {},
   "outputs": [],
   "source": [
    "'''\n",
    "loading libs\n",
    "'''\n",
    "import os\n",
    "import cv2\n",
    "import numpy as np\n",
    "import matplotlib.pyplot as plt"
   ]
  },
  {
   "cell_type": "code",
   "execution_count": 2,
   "metadata": {},
   "outputs": [],
   "source": [
    "import warnings\n",
    "warnings.filterwarnings('ignore')\n",
    "\n",
    "import os, shutil \n",
    "\n",
    "original_dataset_path = './data'\n",
    "\n",
    "base_path = './melanoma_nevus'\n",
    "if not os.path.isdir(base_path): os.mkdir(base_path)\n",
    "\n",
    "# Make a new folders\n",
    "train_folder = os.path.join(base_path, 'train')\n",
    "if not os.path.isdir(train_folder): os.mkdir(train_folder)\n",
    "validation_folder = os.path.join(base_path, 'validation')\n",
    "if not os.path.isdir(validation_folder): os.mkdir(validation_folder)\n",
    "test_folder = os.path.join(base_path, 'test')\n",
    "if not os.path.isdir(test_folder): os.mkdir(test_folder)\n",
    "\n",
    "train_melanoma_folder = os.path.join(train_folder, 'melanoma')\n",
    "if not os.path.isdir(train_melanoma_folder): os.mkdir(train_melanoma_folder)\n",
    "train_nevus_folder = os.path.join(train_folder, 'nevus')\n",
    "if not os.path.isdir(train_nevus_folder): os.mkdir(train_nevus_folder)\n",
    "\n",
    "\n",
    "validation_melanoma_folder = os.path.join(validation_folder, 'melanoma')\n",
    "if not os.path.isdir(validation_melanoma_folder): os.mkdir(validation_melanoma_folder)\n",
    "validation_nevus_folder = os.path.join(validation_folder, 'nevus')\n",
    "if not os.path.isdir(validation_nevus_folder): os.mkdir(validation_nevus_folder)\n",
    "\n",
    "test_melanoma_folder = os.path.join(test_folder, 'melanoma')\n",
    "if not os.path.isdir(test_melanoma_folder): os.mkdir(test_melanoma_folder)\n",
    "test_nevus_folder = os.path.join(test_folder, 'nevus')\n",
    "if not os.path.isdir(test_nevus_folder): os.mkdir(test_nevus_folder)"
   ]
  },
  {
   "cell_type": "code",
   "execution_count": 3,
   "metadata": {},
   "outputs": [],
   "source": [
    "# Get filenames for melanoma and nevus\n",
    "melanoma_path = os.path.join(original_dataset_path, '1')\n",
    "nevus_path = os.path.join(original_dataset_path, '0')\n",
    "\n",
    "melanoma_filenames = [f for f in os.listdir(melanoma_path) if os.path.isfile(os.path.join(melanoma_path, f))]\n",
    "nevus_filenames = [f for f in os.listdir(nevus_path) if os.path.isfile(os.path.join(nevus_path, f))]"
   ]
  },
  {
   "cell_type": "code",
   "execution_count": 4,
   "metadata": {},
   "outputs": [
    {
     "name": "stdout",
     "output_type": "stream",
     "text": [
      "Melanoma files: 1000\n",
      "Nevus files: 1000\n",
      "--------------------------------\n",
      "Melanoma train: 700\n",
      "Melanoma validation: 200\n",
      "Melanoma test: 100\n",
      "Nevus train: 700\n",
      "Nevus validation: 200\n",
      "Nevus test: 100\n"
     ]
    }
   ],
   "source": [
    "def save_processed_files(src_dst):\n",
    "    img = image.load_img(src_dst[0])\n",
    "    y = preprocess(np.array(img))\n",
    "    image.save_img(src_dst[1],y)\n",
    "    \n",
    "\n",
    "# Copy images in to new folders\n",
    "# split ratio (train, validation, test)\n",
    "split_ratio = (0.7, 0.2, 0.1)\n",
    "\n",
    "melanoma_src_dst = []\n",
    "print(\"Melanoma files: {}\".format(len(melanoma_filenames)))\n",
    "for i in range(len(melanoma_filenames)):\n",
    "    file_name = melanoma_filenames[i]\n",
    "    \n",
    "    src = os.path.join(melanoma_path, file_name)\n",
    "    \n",
    "    if i < split_ratio[0] * len(melanoma_filenames):\n",
    "        # Train\n",
    "        dst = os.path.join(train_melanoma_folder, file_name)\n",
    "    elif i < split_ratio[0] * len(melanoma_filenames) + split_ratio[1] * len(melanoma_filenames):\n",
    "        # Validation\n",
    "        dst = os.path.join(validation_melanoma_folder, file_name)\n",
    "    else:\n",
    "        # Test\n",
    "        dst = os.path.join(test_melanoma_folder, file_name)\n",
    "        \n",
    "    shutil.copyfile(src, dst)\n",
    "\n",
    "nevus_src_dst = []\n",
    "print(\"Nevus files: {}\".format(len(nevus_filenames)))\n",
    "for i in range(len(nevus_filenames)):\n",
    "    file_name = nevus_filenames[i]\n",
    "    \n",
    "    src = os.path.join(nevus_path, file_name)\n",
    "    \n",
    "    if i < split_ratio[0] * len(nevus_filenames):\n",
    "        # Train\n",
    "        dst = os.path.join(train_nevus_folder, file_name)\n",
    "    elif i < split_ratio[0] * len(nevus_filenames) + split_ratio[1] * len(nevus_filenames):\n",
    "        # Validation\n",
    "        dst = os.path.join(validation_nevus_folder, file_name)\n",
    "    else:\n",
    "        # Test\n",
    "        dst = os.path.join(test_nevus_folder, file_name)\n",
    "\n",
    "    shutil.copyfile(src, dst)\n",
    "  \n",
    "print('-'*32)\n",
    "print('Melanoma train:', len(os.listdir(train_melanoma_folder)))\n",
    "print('Melanoma validation:', len(os.listdir(validation_melanoma_folder)))\n",
    "print('Melanoma test:', len(os.listdir(test_melanoma_folder)))\n",
    "print('Nevus train:', len(os.listdir(train_nevus_folder)))\n",
    "print('Nevus validation:', len(os.listdir(validation_nevus_folder)))\n",
    "print('Nevus test:', len(os.listdir(test_nevus_folder)))"
   ]
  },
  {
   "cell_type": "markdown",
   "metadata": {},
   "source": [
    "# Make image generator"
   ]
  },
  {
   "cell_type": "code",
   "execution_count": 5,
   "metadata": {},
   "outputs": [
    {
     "name": "stdout",
     "output_type": "stream",
     "text": [
      "Found 1400 images belonging to 2 classes.\n",
      "Found 400 images belonging to 2 classes.\n",
      "Found 200 images belonging to 2 classes.\n"
     ]
    }
   ],
   "source": [
    "from tensorflow.keras.preprocessing.image import ImageDataGenerator\n",
    "# SIZE = (600,450)\n",
    "SIZE = (224,224)\n",
    "\n",
    "# Datagen preprocessing_function\n",
    "def preprocess(img):\n",
    "    new_img = np.array(img[:,:,0]*255, dtype='uint8') \n",
    "    \n",
    "    clahe = cv2.createCLAHE(clipLimit=3.0, tileGridSize=(4,4))\n",
    "    new_img = clahe.apply(new_img)\n",
    "    img[:,:,0] = new_img\n",
    "    img[:,:,1] = new_img\n",
    "    img[:,:,2] = new_img\n",
    "    \n",
    "    return img/255#new_img.reshape(img.shape[0], img.shape[1], )\n",
    "\n",
    "# Rescale image values from 0..255 to 0..1\n",
    "train_datagen = ImageDataGenerator(rescale=1./255,\n",
    "                                   rotation_range=40,\n",
    "                                   width_shift_range=0.1,\n",
    "                                   height_shift_range=0.1,\n",
    "#                                    shear_range=0.1,\n",
    "#                                    zoom_range=0.1,\n",
    "                                   horizontal_flip=True,\n",
    "                                   vertical_flip=True,\n",
    "#                                    preprocessing_function=preprocess,\n",
    "                                   fill_mode='nearest')\n",
    "\n",
    "valid_datagen = ImageDataGenerator(rescale=1./255)\n",
    "test_datagen = ImageDataGenerator(rescale=1./255)\n",
    "\n",
    "train_generator = train_datagen.flow_from_directory(\n",
    "    train_folder, \n",
    "    target_size = (SIZE[0],SIZE[1]),\n",
    "    batch_size = 20,\n",
    "    class_mode = 'binary')\n",
    "\n",
    "valid_generator = valid_datagen.flow_from_directory(\n",
    "    validation_folder, \n",
    "    target_size = (SIZE[0],SIZE[1]), \n",
    "    batch_size = 20,\n",
    "    class_mode = 'binary')\n",
    "\n",
    "test_generator = test_datagen.flow_from_directory(\n",
    "    test_folder, \n",
    "    target_size = (SIZE[0],SIZE[1]), \n",
    "    batch_size = 20,\n",
    "    class_mode = 'binary')"
   ]
  },
  {
   "cell_type": "markdown",
   "metadata": {},
   "source": [
    "# Network construction"
   ]
  },
  {
   "cell_type": "code",
   "execution_count": 6,
   "metadata": {},
   "outputs": [
    {
     "name": "stdout",
     "output_type": "stream",
     "text": [
      "1.15.2\n",
      "Num GPUs Available:  1\n"
     ]
    }
   ],
   "source": [
    "import tensorflow\n",
    "\n",
    "from tensorflow.keras import layers\n",
    "from tensorflow.keras import models\n",
    "from tensorflow.keras import optimizers\n",
    "\n",
    "print(tensorflow.__version__)\n",
    "print(\"Num GPUs Available: \", len(tensorflow.config.experimental.list_physical_devices('GPU')))\n",
    "\n",
    "tensorflow.debugging.set_log_device_placement(True)\n",
    "gpus = tensorflow.config.experimental.list_physical_devices('GPU')\n",
    "tensorflow.config.experimental.set_memory_growth(gpus[0], True)"
   ]
  },
  {
   "cell_type": "code",
   "execution_count": 7,
   "metadata": {},
   "outputs": [],
   "source": [
    "'''\n",
    "Define plot training function\n",
    "'''\n",
    "import matplotlib.pyplot as plt\n",
    "\n",
    "def plot_history(history):\n",
    "    acc = history.history['acc']\n",
    "    val_acc = history.history['val_acc']\n",
    "    loss = history.history['loss']\n",
    "    val_loss = history.history['val_loss']\n",
    "    epochs = range(1, len(acc) + 1)\n",
    "    plt.plot(epochs, acc, label='Training acc')\n",
    "    plt.plot(epochs, val_acc, label='Validation acc')\n",
    "    plt.title('Training and validation accuracy')\n",
    "    plt.ylabel('Accuracy')\n",
    "    plt.xlabel('Epochs')\n",
    "    plt.legend()\n",
    "\n",
    "    plt.figure()\n",
    "    plt.plot(epochs, loss, label='Training loss')\n",
    "    plt.plot(epochs, val_loss, label='Validation loss')\n",
    "    plt.title('Training and validation loss')\n",
    "    plt.ylabel('Loss')\n",
    "    plt.xlabel('Epochs')\n",
    "    plt.legend()\n",
    "    plt.show()"
   ]
  },
  {
   "cell_type": "code",
   "execution_count": 8,
   "metadata": {},
   "outputs": [
    {
     "name": "stdout",
     "output_type": "stream",
     "text": [
      "WARNING:tensorflow:From /usr/local/lib/python3.6/dist-packages/tensorflow_core/python/ops/resource_variable_ops.py:1630: calling BaseResourceVariable.__init__ (from tensorflow.python.ops.resource_variable_ops) with constraint is deprecated and will be removed in a future version.\n",
      "Instructions for updating:\n",
      "If using Keras pass *_constraint arguments to layers.\n",
      "Device mapping:\n",
      "/job:localhost/replica:0/task:0/device:XLA_CPU:0 -> device: XLA_CPU device\n",
      "/job:localhost/replica:0/task:0/device:XLA_GPU:0 -> device: XLA_GPU device\n",
      "/job:localhost/replica:0/task:0/device:GPU:0 -> device: 0, name: GeForce RTX 2080, pci bus id: 0000:01:00.0, compute capability: 7.5\n",
      "\n",
      "WARNING:tensorflow:Large dropout rate: 0.9 (>0.5). In TensorFlow 2.x, dropout() uses dropout rate instead of keep_prob. Please ensure that this is intended.\n"
     ]
    }
   ],
   "source": [
    "from tensorflow.keras.models import Sequential\n",
    "from tensorflow.keras.layers import Conv2D, MaxPooling2D, Flatten, Dense, Dropout, Activation, BatchNormalization, GlobalAveragePooling2D\n",
    "from tensorflow.keras.applications import ResNet50\n",
    "from tensorflow.keras.models import Model\n",
    "# from tensorflow.keras_tqdm import TQDMNotebookCallback\n",
    "\n",
    "base_model = ResNet50(weights='imagenet', include_top=False,\n",
    "                     input_shape=(SIZE[0], SIZE[1], 3))\n",
    "\n",
    "# add a global spatial average pooling layer\n",
    "x = base_model.output\n",
    "x = GlobalAveragePooling2D()(x)\n",
    "# x = MaxAveragePooling2D()(x)\n",
    "# let's add a fully-connected layer\n",
    "x = Dense(1024, activation='elu')(x)\n",
    "x = Dropout(0.9)(x)\n",
    "# and a logistic layer\n",
    "predictions = Dense(1, activation='softmax')(x)\n",
    "\n",
    "# this is the model we will train\n",
    "model = Model(inputs=base_model.input, outputs=predictions)\n",
    "\n",
    "# first: train only the top layers (which were randomly initialized)\n",
    "for layer in base_model.layers:\n",
    "    layer.trainable = True"
   ]
  },
  {
   "cell_type": "code",
   "execution_count": 9,
   "metadata": {},
   "outputs": [],
   "source": [
    "from tensorflow.keras.optimizers import Adam\n",
    "\n",
    "# compile the model (should be done *after* setting layers to non-trainable)\n",
    "model.compile(optimizer=Adam(lr=0.0001), loss='binary_crossentropy',\n",
    "             metrics=['accuracy'])"
   ]
  },
  {
   "cell_type": "code",
   "execution_count": 10,
   "metadata": {
    "scrolled": true
   },
   "outputs": [
    {
     "name": "stdout",
     "output_type": "stream",
     "text": [
      "Epoch 1/50\n",
      "WARNING:tensorflow:From /usr/local/lib/python3.6/dist-packages/tensorflow_core/python/ops/math_grad.py:1424: where (from tensorflow.python.ops.array_ops) is deprecated and will be removed in a future version.\n",
      "Instructions for updating:\n",
      "Use tf.where in 2.0, which has the same broadcast rule as np.where\n",
      "69/70 [============================>.] - ETA: 0s - loss: 7.6555 - acc: 0.5007Epoch 1/50\n",
      "70/70 [==============================] - 37s 530ms/step - loss: 7.6666 - acc: 0.5000 - val_loss: 7.6246 - val_acc: 0.5000\n",
      "Epoch 2/50\n",
      "69/70 [============================>.] - ETA: 0s - loss: 7.6888 - acc: 0.4986Epoch 1/50\n",
      "70/70 [==============================] - 12s 165ms/step - loss: 7.6666 - acc: 0.5000 - val_loss: 7.6246 - val_acc: 0.5000\n",
      "Epoch 3/50\n",
      "69/70 [============================>.] - ETA: 0s - loss: 7.6666 - acc: 0.5000Epoch 1/50\n",
      "70/70 [==============================] - 12s 165ms/step - loss: 7.6666 - acc: 0.5000 - val_loss: 7.6246 - val_acc: 0.5000\n",
      "Epoch 4/50\n",
      "69/70 [============================>.] - ETA: 0s - loss: 7.7000 - acc: 0.4978Epoch 1/50\n",
      "70/70 [==============================] - 12s 165ms/step - loss: 7.6666 - acc: 0.5000 - val_loss: 7.6246 - val_acc: 0.5000\n",
      "Epoch 5/50\n",
      "69/70 [============================>.] - ETA: 0s - loss: 7.6444 - acc: 0.5014Epoch 1/50\n",
      "70/70 [==============================] - 12s 165ms/step - loss: 7.6666 - acc: 0.5000 - val_loss: 7.6246 - val_acc: 0.5000\n",
      "Epoch 6/50\n",
      "69/70 [============================>.] - ETA: 0s - loss: 7.6333 - acc: 0.5022Epoch 1/50\n",
      "70/70 [==============================] - 12s 165ms/step - loss: 7.6666 - acc: 0.5000 - val_loss: 7.6246 - val_acc: 0.5000\n",
      "Epoch 7/50\n",
      "69/70 [============================>.] - ETA: 0s - loss: 7.6333 - acc: 0.5022Epoch 1/50\n",
      "70/70 [==============================] - 12s 165ms/step - loss: 7.6666 - acc: 0.5000 - val_loss: 7.6246 - val_acc: 0.5000\n",
      "Epoch 8/50\n",
      "69/70 [============================>.] - ETA: 0s - loss: 7.6555 - acc: 0.5007Epoch 1/50\n",
      "70/70 [==============================] - 12s 165ms/step - loss: 7.6666 - acc: 0.5000 - val_loss: 7.6246 - val_acc: 0.5000\n",
      "Epoch 9/50\n",
      "69/70 [============================>.] - ETA: 0s - loss: 7.6777 - acc: 0.4993Epoch 1/50\n",
      "70/70 [==============================] - 12s 165ms/step - loss: 7.6666 - acc: 0.5000 - val_loss: 7.6246 - val_acc: 0.5000\n",
      "Epoch 10/50\n",
      "69/70 [============================>.] - ETA: 0s - loss: 7.6888 - acc: 0.4986Epoch 1/50\n",
      "70/70 [==============================] - 12s 165ms/step - loss: 7.6666 - acc: 0.5000 - val_loss: 7.6246 - val_acc: 0.5000\n",
      "Epoch 11/50\n",
      "69/70 [============================>.] - ETA: 0s - loss: 7.6555 - acc: 0.5007Epoch 1/50\n",
      "70/70 [==============================] - 12s 165ms/step - loss: 7.6666 - acc: 0.5000 - val_loss: 7.6246 - val_acc: 0.5000\n",
      "Epoch 12/50\n",
      "69/70 [============================>.] - ETA: 0s - loss: 7.6555 - acc: 0.5007Epoch 1/50\n",
      "70/70 [==============================] - 12s 165ms/step - loss: 7.6666 - acc: 0.5000 - val_loss: 7.6246 - val_acc: 0.5000\n",
      "Epoch 13/50\n",
      "69/70 [============================>.] - ETA: 0s - loss: 7.6555 - acc: 0.5007Epoch 1/50\n",
      "70/70 [==============================] - 12s 165ms/step - loss: 7.6666 - acc: 0.5000 - val_loss: 7.6246 - val_acc: 0.5000\n",
      "Epoch 14/50\n",
      "69/70 [============================>.] - ETA: 0s - loss: 7.6888 - acc: 0.4986Epoch 1/50\n",
      "70/70 [==============================] - 12s 165ms/step - loss: 7.6666 - acc: 0.5000 - val_loss: 7.6246 - val_acc: 0.5000\n",
      "Epoch 15/50\n",
      "69/70 [============================>.] - ETA: 0s - loss: 7.6666 - acc: 0.5000Epoch 1/50\n",
      "70/70 [==============================] - 12s 165ms/step - loss: 7.6666 - acc: 0.5000 - val_loss: 7.6246 - val_acc: 0.5000\n",
      "Epoch 16/50\n",
      "69/70 [============================>.] - ETA: 0s - loss: 7.6888 - acc: 0.4986Epoch 1/50\n",
      "70/70 [==============================] - 12s 165ms/step - loss: 7.6666 - acc: 0.5000 - val_loss: 7.6246 - val_acc: 0.5000\n",
      "Epoch 17/50\n",
      "69/70 [============================>.] - ETA: 0s - loss: 7.6444 - acc: 0.5014Epoch 1/50\n",
      "70/70 [==============================] - 12s 165ms/step - loss: 7.6666 - acc: 0.5000 - val_loss: 7.6246 - val_acc: 0.5000\n",
      "Epoch 18/50\n",
      "69/70 [============================>.] - ETA: 0s - loss: 7.6222 - acc: 0.5029Epoch 1/50\n",
      "70/70 [==============================] - 12s 165ms/step - loss: 7.6666 - acc: 0.5000 - val_loss: 7.6246 - val_acc: 0.5000\n",
      "Epoch 19/50\n",
      "69/70 [============================>.] - ETA: 0s - loss: 7.6888 - acc: 0.4986Epoch 1/50\n",
      "70/70 [==============================] - 12s 165ms/step - loss: 7.6666 - acc: 0.5000 - val_loss: 7.6246 - val_acc: 0.5000\n",
      "Epoch 20/50\n",
      "69/70 [============================>.] - ETA: 0s - loss: 7.6666 - acc: 0.5000Epoch 1/50\n",
      "70/70 [==============================] - 12s 165ms/step - loss: 7.6666 - acc: 0.5000 - val_loss: 7.6246 - val_acc: 0.5000\n",
      "Epoch 21/50\n",
      "69/70 [============================>.] - ETA: 0s - loss: 7.6555 - acc: 0.5007Epoch 1/50\n",
      "70/70 [==============================] - 12s 165ms/step - loss: 7.6666 - acc: 0.5000 - val_loss: 7.6246 - val_acc: 0.5000\n",
      "Epoch 22/50\n",
      "69/70 [============================>.] - ETA: 0s - loss: 7.7000 - acc: 0.4978Epoch 1/50\n",
      "70/70 [==============================] - 12s 165ms/step - loss: 7.6666 - acc: 0.5000 - val_loss: 7.6246 - val_acc: 0.5000\n",
      "Epoch 23/50\n",
      "69/70 [============================>.] - ETA: 0s - loss: 7.6666 - acc: 0.5000Epoch 1/50\n",
      "70/70 [==============================] - 12s 165ms/step - loss: 7.6666 - acc: 0.5000 - val_loss: 7.6246 - val_acc: 0.5000\n",
      "Epoch 24/50\n",
      "69/70 [============================>.] - ETA: 0s - loss: 7.6555 - acc: 0.5007Epoch 1/50\n",
      "70/70 [==============================] - 12s 165ms/step - loss: 7.6666 - acc: 0.5000 - val_loss: 7.6246 - val_acc: 0.5000\n",
      "Epoch 25/50\n",
      "69/70 [============================>.] - ETA: 0s - loss: 7.6666 - acc: 0.5000Epoch 1/50\n",
      "70/70 [==============================] - 12s 165ms/step - loss: 7.6666 - acc: 0.5000 - val_loss: 7.6246 - val_acc: 0.5000\n",
      "Epoch 26/50\n",
      "69/70 [============================>.] - ETA: 0s - loss: 7.7000 - acc: 0.4978Epoch 1/50\n",
      "70/70 [==============================] - 12s 165ms/step - loss: 7.6666 - acc: 0.5000 - val_loss: 7.6246 - val_acc: 0.5000\n",
      "Epoch 27/50\n",
      "69/70 [============================>.] - ETA: 0s - loss: 7.6888 - acc: 0.4986Epoch 1/50\n",
      "70/70 [==============================] - 12s 165ms/step - loss: 7.6666 - acc: 0.5000 - val_loss: 7.6246 - val_acc: 0.5000\n",
      "Epoch 28/50\n",
      "69/70 [============================>.] - ETA: 0s - loss: 7.6222 - acc: 0.5029Epoch 1/50\n",
      "70/70 [==============================] - 12s 165ms/step - loss: 7.6666 - acc: 0.5000 - val_loss: 7.6246 - val_acc: 0.5000\n",
      "Epoch 29/50\n",
      "69/70 [============================>.] - ETA: 0s - loss: 7.6666 - acc: 0.5000Epoch 1/50\n",
      "70/70 [==============================] - 12s 165ms/step - loss: 7.6666 - acc: 0.5000 - val_loss: 7.6246 - val_acc: 0.5000\n",
      "Epoch 30/50\n",
      "69/70 [============================>.] - ETA: 0s - loss: 7.7000 - acc: 0.4978Epoch 1/50\n",
      "70/70 [==============================] - 12s 165ms/step - loss: 7.6666 - acc: 0.5000 - val_loss: 7.6246 - val_acc: 0.5000\n",
      "Epoch 31/50\n",
      "69/70 [============================>.] - ETA: 0s - loss: 7.6555 - acc: 0.5007Epoch 1/50\n",
      "70/70 [==============================] - 12s 165ms/step - loss: 7.6666 - acc: 0.5000 - val_loss: 7.6246 - val_acc: 0.5000\n",
      "Epoch 32/50\n",
      "69/70 [============================>.] - ETA: 0s - loss: 7.6888 - acc: 0.4986Epoch 1/50\n",
      "70/70 [==============================] - 12s 165ms/step - loss: 7.6666 - acc: 0.5000 - val_loss: 7.6246 - val_acc: 0.5000\n",
      "Epoch 33/50\n",
      "69/70 [============================>.] - ETA: 0s - loss: 7.6777 - acc: 0.4993Epoch 1/50\n",
      "70/70 [==============================] - 12s 165ms/step - loss: 7.6666 - acc: 0.5000 - val_loss: 7.6246 - val_acc: 0.5000\n",
      "Epoch 34/50\n",
      "69/70 [============================>.] - ETA: 0s - loss: 7.6555 - acc: 0.5007Epoch 1/50\n",
      "70/70 [==============================] - 12s 165ms/step - loss: 7.6666 - acc: 0.5000 - val_loss: 7.6246 - val_acc: 0.5000\n",
      "Epoch 35/50\n",
      "69/70 [============================>.] - ETA: 0s - loss: 7.6888 - acc: 0.4986Epoch 1/50\n",
      "70/70 [==============================] - 12s 165ms/step - loss: 7.6666 - acc: 0.5000 - val_loss: 7.6246 - val_acc: 0.5000\n",
      "Epoch 36/50\n",
      "69/70 [============================>.] - ETA: 0s - loss: 7.7000 - acc: 0.4978Epoch 1/50\n"
     ]
    },
    {
     "name": "stdout",
     "output_type": "stream",
     "text": [
      "70/70 [==============================] - 12s 165ms/step - loss: 7.6666 - acc: 0.5000 - val_loss: 7.6246 - val_acc: 0.5000\n",
      "Epoch 37/50\n",
      "69/70 [============================>.] - ETA: 0s - loss: 7.6555 - acc: 0.5007Epoch 1/50\n",
      "70/70 [==============================] - 12s 165ms/step - loss: 7.6666 - acc: 0.5000 - val_loss: 7.6246 - val_acc: 0.5000\n",
      "Epoch 38/50\n",
      "69/70 [============================>.] - ETA: 0s - loss: 7.6555 - acc: 0.5007Epoch 1/50\n",
      "70/70 [==============================] - 12s 165ms/step - loss: 7.6666 - acc: 0.5000 - val_loss: 7.6246 - val_acc: 0.5000\n",
      "Epoch 39/50\n",
      "69/70 [============================>.] - ETA: 0s - loss: 7.6444 - acc: 0.5014Epoch 1/50\n",
      "70/70 [==============================] - 12s 165ms/step - loss: 7.6666 - acc: 0.5000 - val_loss: 7.6246 - val_acc: 0.5000\n",
      "Epoch 40/50\n",
      "69/70 [============================>.] - ETA: 0s - loss: 7.6888 - acc: 0.4986Epoch 1/50\n",
      "70/70 [==============================] - 12s 165ms/step - loss: 7.6666 - acc: 0.5000 - val_loss: 7.6246 - val_acc: 0.5000\n",
      "Epoch 41/50\n",
      "69/70 [============================>.] - ETA: 0s - loss: 7.6777 - acc: 0.4993Epoch 1/50\n",
      "70/70 [==============================] - 12s 165ms/step - loss: 7.6666 - acc: 0.5000 - val_loss: 7.6246 - val_acc: 0.5000\n",
      "Epoch 42/50\n",
      "69/70 [============================>.] - ETA: 0s - loss: 7.6888 - acc: 0.4986Epoch 1/50\n",
      "70/70 [==============================] - 12s 165ms/step - loss: 7.6666 - acc: 0.5000 - val_loss: 7.6246 - val_acc: 0.5000\n",
      "Epoch 43/50\n",
      "69/70 [============================>.] - ETA: 0s - loss: 7.6777 - acc: 0.4993Epoch 1/50\n",
      "70/70 [==============================] - 12s 165ms/step - loss: 7.6666 - acc: 0.5000 - val_loss: 7.6246 - val_acc: 0.5000\n",
      "Epoch 44/50\n",
      "69/70 [============================>.] - ETA: 0s - loss: 7.6666 - acc: 0.5000Epoch 1/50\n",
      "70/70 [==============================] - 12s 165ms/step - loss: 7.6666 - acc: 0.5000 - val_loss: 7.6246 - val_acc: 0.5000\n",
      "Epoch 45/50\n",
      "69/70 [============================>.] - ETA: 0s - loss: 7.6888 - acc: 0.4986Epoch 1/50\n",
      "70/70 [==============================] - 12s 165ms/step - loss: 7.6666 - acc: 0.5000 - val_loss: 7.6246 - val_acc: 0.5000\n",
      "Epoch 46/50\n",
      "69/70 [============================>.] - ETA: 0s - loss: 7.6666 - acc: 0.5000Epoch 1/50\n",
      "70/70 [==============================] - 12s 165ms/step - loss: 7.6666 - acc: 0.5000 - val_loss: 7.6246 - val_acc: 0.5000\n",
      "Epoch 47/50\n",
      "69/70 [============================>.] - ETA: 0s - loss: 7.6333 - acc: 0.5022Epoch 1/50\n",
      "70/70 [==============================] - 12s 165ms/step - loss: 7.6666 - acc: 0.5000 - val_loss: 7.6246 - val_acc: 0.5000\n",
      "Epoch 48/50\n",
      "69/70 [============================>.] - ETA: 0s - loss: 7.6888 - acc: 0.4986Epoch 1/50\n",
      "70/70 [==============================] - 12s 165ms/step - loss: 7.6666 - acc: 0.5000 - val_loss: 7.6246 - val_acc: 0.5000\n",
      "Epoch 49/50\n",
      "69/70 [============================>.] - ETA: 0s - loss: 7.6888 - acc: 0.4986Epoch 1/50\n",
      "70/70 [==============================] - 12s 165ms/step - loss: 7.6666 - acc: 0.5000 - val_loss: 7.6246 - val_acc: 0.5000\n",
      "Epoch 50/50\n",
      "69/70 [============================>.] - ETA: 0s - loss: 7.6555 - acc: 0.5007Epoch 1/50\n",
      "70/70 [==============================] - 12s 165ms/step - loss: 7.6666 - acc: 0.5000 - val_loss: 7.6246 - val_acc: 0.5000\n"
     ]
    }
   ],
   "source": [
    "callbacks_list = [\n",
    "#     tensorflow.keras.callbacks.EarlyStopping(\n",
    "#         monitor='val_acc', min_delta=0.001, patience=7),\n",
    "    tensorflow.keras.callbacks.ModelCheckpoint(\n",
    "        filepath='model.h5', monitor='val_loss',save_best_only=True)\n",
    "]\n",
    "\n",
    "history = model.fit_generator(\n",
    "    train_generator,\n",
    "    steps_per_epoch=1400//20,\n",
    "    epochs=50,\n",
    "    validation_data=valid_generator,\n",
    "    validation_steps=400//20,\n",
    "    callbacks=callbacks_list)"
   ]
  },
  {
   "cell_type": "code",
   "execution_count": 11,
   "metadata": {},
   "outputs": [
    {
     "data": {
      "image/png": "[encoded data removed]",
      "text/plain": [
       "<Figure size 432x288 with 1 Axes>"
      ]
     },
     "metadata": {
      "needs_background": "light"
     },
     "output_type": "display_data"
    },
    {
     "data": {
      "image/png": "[encoded data removed]",
      "text/plain": [
       "<Figure size 432x288 with 1 Axes>"
      ]
     },
     "metadata": {
      "needs_background": "light"
     },
     "output_type": "display_data"
    }
   ],
   "source": [
    "plot_history(history)"
   ]
  },
  {
   "cell_type": "code",
   "execution_count": 12,
   "metadata": {},
   "outputs": [
    {
     "name": "stdout",
     "output_type": "stream",
     "text": [
      "WARNING:tensorflow:From /usr/local/lib/python3.6/dist-packages/tensorflow_core/python/ops/init_ops.py:97: calling GlorotUniform.__init__ (from tensorflow.python.ops.init_ops) with dtype is deprecated and will be removed in a future version.\n",
      "Instructions for updating:\n",
      "Call initializer instance with the dtype argument instead of passing it to the constructor\n",
      "WARNING:tensorflow:From /usr/local/lib/python3.6/dist-packages/tensorflow_core/python/ops/init_ops.py:97: calling Zeros.__init__ (from tensorflow.python.ops.init_ops) with dtype is deprecated and will be removed in a future version.\n",
      "Instructions for updating:\n",
      "Call initializer instance with the dtype argument instead of passing it to the constructor\n",
      "WARNING:tensorflow:From /usr/local/lib/python3.6/dist-packages/tensorflow_core/python/ops/init_ops.py:97: calling Ones.__init__ (from tensorflow.python.ops.init_ops) with dtype is deprecated and will be removed in a future version.\n",
      "Instructions for updating:\n",
      "Call initializer instance with the dtype argument instead of passing it to the constructor\n",
      "WARNING:tensorflow:Large dropout rate: 0.9 (>0.5). In TensorFlow 2.x, dropout() uses dropout rate instead of keep_prob. Please ensure that this is intended.\n"
     ]
    }
   ],
   "source": [
    "import tensorflow\n",
    "from tensorflow.keras.models import load_model\n",
    "model = load_model('model.h5')"
   ]
  },
  {
   "cell_type": "code",
   "execution_count": 14,
   "metadata": {},
   "outputs": [
    {
     "data": {
      "text/plain": [
       "[7.6246192932128904, 0.5]"
      ]
     },
     "execution_count": 14,
     "metadata": {},
     "output_type": "execute_result"
    }
   ],
   "source": [
    "model.evaluate_generator(test_generator, 20)"
   ]
  }
 ],
 "metadata": {
  "kernelspec": {
   "display_name": "Python 3",
   "language": "python",
   "name": "python3"
  },
  "language_info": {
   "codemirror_mode": {
    "name": "ipython",
    "version": 3
   },
   "file_extension": ".py",
   "mimetype": "text/x-python",
   "name": "python",
   "nbconvert_exporter": "python",
   "pygments_lexer": "ipython3",
   "version": "3.6.9"
  }
 },
 "nbformat": 4,
 "nbformat_minor": 4
}
