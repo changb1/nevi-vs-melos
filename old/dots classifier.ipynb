{
 "cells": [
  {
   "cell_type": "code",
   "execution_count": null,
   "metadata": {},
   "outputs": [],
   "source": [
    "'''\n",
    "loading libs\n",
    "'''\n",
    "import os\n",
    "import cv2\n",
    "import numpy as np\n",
    "import matplotlib.pyplot as plt"
   ]
  },
  {
   "cell_type": "code",
   "execution_count": null,
   "metadata": {},
   "outputs": [],
   "source": [
    "'''\n",
    "loading images\n",
    "'''\n",
    "nevus_filepath = 'data/0/'\n",
    "melanoma_filepath = 'data/1/'\n",
    "# get dot filenames\n",
    "f = open('n_dots.txt')\n",
    "data = f.read()\n",
    "f.close()\n",
    "n_dots_filenames = data.split('\\n')\n",
    "\n",
    "nevus_files = [f for f in os.listdir(nevus_filepath) if os.path.isfile(nevus_filepath+f)]\n",
    "melanoma_files = [f for f in os.listdir(melanoma_filepath) if os.path.isfile(melanoma_filepath+f)]\n",
    "# sort filenames\n",
    "nevus_files = sorted(nevus_files)\n",
    "melanoma_files = sorted(melanoma_files)\n",
    "\n",
    "N = 1000\n",
    "# Load Nevus\n",
    "nevus_imgs=[]\n",
    "n_dots_imgs=[]\n",
    "for i in range(N):\n",
    "    if nevus_files[i] not in n_dots_filenames:\n",
    "        nevus_imgs += [plt.imread(os.path.join(nevus_filepath, nevus_files[i]))]\n",
    "    else:\n",
    "        n_dots_imgs += [plt.imread(os.path.join(nevus_filepath, nevus_files[i]))]\n",
    "\n",
    "melanoma_imgs = [plt.imread(os.path.join(melanoma_filepath, melanoma_files[i])) for i in range(N)]\n",
    "\n",
    "# resize\n",
    "nevus_imgs = [cv2.resize(img,(256,256)) for img in nevus_imgs]\n",
    "melanoma_imgs = [cv2.resize(img,(256,256)) for img in melanoma_imgs]\n",
    "n_dots_imgs = [cv2.resize(img,(256,256)) for img in n_dots_imgs]"
   ]
  },
  {
   "cell_type": "code",
   "execution_count": null,
   "metadata": {},
   "outputs": [],
   "source": [
    "'''\n",
    "Split data\n",
    "'''\n",
    "from sklearn.model_selection import train_test_split\n",
    "X = nevus_imgs + n_dots_imgs\n",
    "\n",
    "X = np.array([img.reshape(256,256,1) for img in X])\n",
    "y = np.zeros(X.shape[0])\n",
    "y[len(nevus_imgs):] = 1\n",
    "\n",
    "X_train, X_test, y_train, y_test = train_test_split(X,y, test_size=0.2, random_state=42)"
   ]
  },
  {
   "cell_type": "code",
   "execution_count": null,
   "metadata": {},
   "outputs": [],
   "source": [
    "'''\n",
    "Define plot training function\n",
    "'''\n",
    "import matplotlib.pyplot as plt\n",
    "\n",
    "def plot_history(history):\n",
    "    acc = history.history['acc']\n",
    "    val_acc = history.history['val_acc']\n",
    "    loss = history.history['loss']\n",
    "    val_loss = history.history['val_loss']\n",
    "    epochs = range(1, len(acc) + 1)\n",
    "    plt.plot(epochs, acc, label='Training acc')\n",
    "    plt.plot(epochs, val_acc, label='Validation acc')\n",
    "    plt.title('Training and validation accuracy')\n",
    "    plt.ylabel('Accuracy')\n",
    "    plt.xlabel('Epochs')\n",
    "    plt.legend()\n",
    "\n",
    "    plt.figure()\n",
    "    plt.plot(epochs, loss, label='Training loss')\n",
    "    plt.plot(epochs, val_loss, label='Validation loss')\n",
    "    plt.title('Training and validation loss')\n",
    "    plt.ylabel('Loss')\n",
    "    plt.xlabel('Epochs')\n",
    "    plt.legend()\n",
    "    plt.show()"
   ]
  },
  {
   "cell_type": "code",
   "execution_count": null,
   "metadata": {},
   "outputs": [],
   "source": [
    "import tensorflow\n",
    "\n",
    "from tensorflow.keras import layers\n",
    "from tensorflow.keras import models\n",
    "from tensorflow.keras import optimizers\n",
    "\n",
    "print(tensorflow.__version__)\n",
    "print(\"Num GPUs Available: \", len(tensorflow.config.experimental.list_physical_devices('GPU')))\n",
    "\n",
    "tensorflow.debugging.set_log_device_placement(True)\n",
    "gpus = tensorflow.config.experimental.list_physical_devices('GPU')\n",
    "tensorflow.config.experimental.set_memory_growth(gpus[0], True)"
   ]
  },
  {
   "cell_type": "code",
   "execution_count": null,
   "metadata": {},
   "outputs": [],
   "source": [
    "# My model\n",
    "model = models.Sequential()\n",
    "model.add(layers.Conv2D(32, (4,4), activation='relu', input_shape=(256,256,1)))\n",
    "model.add(layers.MaxPooling2D((2,2)))\n",
    "model.add(layers.Conv2D(64,(3,3), activation='relu'))\n",
    "model.add(layers.MaxPooling2D((2,2)))\n",
    "model.add(layers.Conv2D(128,(3,3), activation='relu'))\n",
    "model.add(layers.MaxPooling2D((2,2)))\n",
    "model.add(layers.Conv2D(128,(3,3), activation='relu'))\n",
    "model.add(layers.MaxPooling2D((2,2)))\n",
    "model.add(layers.Flatten())\n",
    "# model.add(layers.Dropout(0.3))\n",
    "model.add(layers.Dense(128, activation='relu'))\n",
    "model.add(layers.Dense(1, activation='sigmoid'))\n",
    "     \n",
    "model.summary()\n",
    "model.compile(loss='binary_crossentropy', optimizer='adam', metrics=['acc'])"
   ]
  },
  {
   "cell_type": "code",
   "execution_count": null,
   "metadata": {
    "scrolled": true
   },
   "outputs": [],
   "source": [
    "history = model.fit(\n",
    "    X_train,\n",
    "    y_train,\n",
    "    epochs = 50,\n",
    "    validation_split=0.2)"
   ]
  },
  {
   "cell_type": "code",
   "execution_count": null,
   "metadata": {},
   "outputs": [],
   "source": [
    "plot_history(history)\n",
    "test_loss, test_acc = model.evaluate(X_test, y_test)\n",
    "print(\"test acc:\", test_acc)\n",
    "print(\"test loss:\", test_loss)"
   ]
  },
  {
   "cell_type": "code",
   "execution_count": null,
   "metadata": {},
   "outputs": [],
   "source": [
    "'''\n",
    "Apply model to real data\n",
    "'''\n",
    "data = np.array([img.reshape(256,256,1) for img in melanoma_imgs]) # nevus_imgs\n",
    "n_classes = model.predict(data)\n",
    "n_classes\n",
    "dots_classes = n_classes > 0.4\n",
    "\n",
    "fig, ax = plt.subplots(15,15, figsize=(15,15))\n",
    "k = 0\n",
    "for i in range(15):\n",
    "    for j in range(15):\n",
    "        if dots_classes[k]:\n",
    "            ax[i,j].imshow(melanoma_imgs[k], 'Greens_r')\n",
    "        else:\n",
    "            ax[i,j].imshow(melanoma_imgs[k], 'Blues_r')\n",
    "        ax[i,j].axis('off')\n",
    "        k+=1\n",
    "        \n",
    "plt.figure()\n",
    "plt.plot(dots_classes, '--r', alpha=0.4)\n",
    "plt.plot(n_classes, 'b')"
   ]
  }
 ],
 "metadata": {
  "kernelspec": {
   "display_name": "Python 3",
   "language": "python",
   "name": "python3"
  },
  "language_info": {
   "codemirror_mode": {
    "name": "ipython",
    "version": 3
   },
   "file_extension": ".py",
   "mimetype": "text/x-python",
   "name": "python",
   "nbconvert_exporter": "python",
   "pygments_lexer": "ipython3",
   "version": "3.6.9"
  }
 },
 "nbformat": 4,
 "nbformat_minor": 4
}
