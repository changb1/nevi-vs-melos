{
 "cells": [
  {
   "cell_type": "markdown",
   "metadata": {},
   "source": [
    "### Data sorting\n",
    "Make a train, validation and test data folders"
   ]
  },
  {
   "cell_type": "code",
   "execution_count": 2,
   "metadata": {},
   "outputs": [],
   "source": [
    "import warnings\n",
    "warnings.filterwarnings('ignore')\n",
    "\n",
    "import os, shutil \n",
    "\n",
    "original_dataset_path = './data'\n",
    "\n",
    "base_path = './melanoma_nevus'\n",
    "if not os.path.isdir(base_path): os.mkdir(base_path)\n",
    "\n",
    "# Make a new folders\n",
    "train_folder = os.path.join(base_path, 'train')\n",
    "if not os.path.isdir(train_folder): os.mkdir(train_folder)\n",
    "validation_folder = os.path.join(base_path, 'validation')\n",
    "if not os.path.isdir(validation_folder): os.mkdir(validation_folder)\n",
    "test_folder = os.path.join(base_path, 'test')\n",
    "if not os.path.isdir(test_folder): os.mkdir(test_folder)\n",
    "\n",
    "train_melanoma_folder = os.path.join(train_folder, 'melanoma')\n",
    "if not os.path.isdir(train_melanoma_folder): os.mkdir(train_melanoma_folder)\n",
    "train_nevus_folder = os.path.join(train_folder, 'nevus')\n",
    "if not os.path.isdir(train_nevus_folder): os.mkdir(train_nevus_folder)\n",
    "\n",
    "\n",
    "validation_melanoma_folder = os.path.join(validation_folder, 'melanoma')\n",
    "if not os.path.isdir(validation_melanoma_folder): os.mkdir(validation_melanoma_folder)\n",
    "validation_nevus_folder = os.path.join(validation_folder, 'nevus')\n",
    "if not os.path.isdir(validation_nevus_folder): os.mkdir(validation_nevus_folder)\n",
    "\n",
    "test_melanoma_folder = os.path.join(test_folder, 'melanoma')\n",
    "if not os.path.isdir(test_melanoma_folder): os.mkdir(test_melanoma_folder)\n",
    "test_nevus_folder = os.path.join(test_folder, 'nevus')\n",
    "if not os.path.isdir(test_nevus_folder): os.mkdir(test_nevus_folder)\n"
   ]
  },
  {
   "cell_type": "code",
   "execution_count": 3,
   "metadata": {},
   "outputs": [],
   "source": [
    "# Get filenames for melanoma and nevus\n",
    "melanoma_path = os.path.join(original_dataset_path, '1')\n",
    "nevus_path = os.path.join(original_dataset_path, '0')\n",
    "\n",
    "melanoma_filenames = [f for f in os.listdir(melanoma_path) if os.path.isfile(os.path.join(melanoma_path, f))]\n",
    "nevus_filenames = [f for f in os.listdir(nevus_path) if os.path.isfile(os.path.join(nevus_path, f))]"
   ]
  },
  {
   "cell_type": "code",
   "execution_count": 4,
   "metadata": {
    "scrolled": true
   },
   "outputs": [
    {
     "name": "stdout",
     "output_type": "stream",
     "text": [
      "Melanoma files: 1000\n",
      "Nevus files: 1000\n",
      "--------------------------------\n",
      "Melanoma train: 700\n",
      "Melanoma validation: 200\n",
      "Melanoma test: 100\n",
      "Nevus train: 700\n",
      "Nevus validation: 200\n",
      "Nevus test: 100\n"
     ]
    }
   ],
   "source": [
    "from multiprocessing import Pool\n",
    "from tqdm import tqdm\n",
    "\n",
    "def save_processed_files(src_dst):\n",
    "    img = image.load_img(src_dst[0])\n",
    "    y = preprocess(np.array(img))\n",
    "    image.save_img(src_dst[1],y)\n",
    "    \n",
    "\n",
    "# Copy images in to new folders\n",
    "# split ratio (train, validation, test)\n",
    "split_ratio = (0.7, 0.2, 0.1)\n",
    "\n",
    "melanoma_src_dst = []\n",
    "print(\"Melanoma files: {}\".format(len(melanoma_filenames)))\n",
    "for i in range(len(melanoma_filenames)):\n",
    "    file_name = melanoma_filenames[i]\n",
    "    \n",
    "    src = os.path.join(melanoma_path, file_name)\n",
    "    \n",
    "    if i < split_ratio[0] * len(melanoma_filenames):\n",
    "        # Train\n",
    "        dst = os.path.join(train_melanoma_folder, file_name)\n",
    "    elif i < split_ratio[0] * len(melanoma_filenames) + split_ratio[1] * len(melanoma_filenames):\n",
    "        # Validation\n",
    "        dst = os.path.join(validation_melanoma_folder, file_name)\n",
    "    else:\n",
    "        # Test\n",
    "        dst = os.path.join(test_melanoma_folder, file_name)\n",
    "    \n",
    "#     melanoma_src_dst+= [(src, dst)]\n",
    "    shutil.copyfile(src, dst)\n",
    "\n",
    "nevus_src_dst = []\n",
    "print(\"Nevus files: {}\".format(len(nevus_filenames)))\n",
    "for i in range(len(nevus_filenames)):\n",
    "    file_name = nevus_filenames[i]\n",
    "    \n",
    "    src = os.path.join(nevus_path, file_name)\n",
    "    \n",
    "    if i < split_ratio[0] * len(nevus_filenames):\n",
    "        # Train\n",
    "        dst = os.path.join(train_nevus_folder, file_name)\n",
    "    elif i < split_ratio[0] * len(nevus_filenames) + split_ratio[1] * len(nevus_filenames):\n",
    "        # Validation\n",
    "        dst = os.path.join(validation_nevus_folder, file_name)\n",
    "    else:\n",
    "        # Test\n",
    "        dst = os.path.join(test_nevus_folder, file_name)\n",
    "    \n",
    "#     nevus_src_dst+= [(src, dst)]\n",
    "    shutil.copyfile(src, dst)\n",
    "    \n",
    "# pool = Pool()\n",
    "# pool.map(save_processed_files, melanoma_src_dst), total=len(melanoma_src_dst)\n",
    "# pool.map(save_processed_files, nevus_src_dst), total=len(nevus_src_dst)\n",
    "    \n",
    "print('-'*32)\n",
    "print('Melanoma train:', len(os.listdir(train_melanoma_folder)))\n",
    "print('Melanoma validation:', len(os.listdir(validation_melanoma_folder)))\n",
    "print('Melanoma test:', len(os.listdir(test_melanoma_folder)))\n",
    "print('Nevus train:', len(os.listdir(train_nevus_folder)))\n",
    "print('Nevus validation:', len(os.listdir(validation_nevus_folder)))\n",
    "print('Nevus test:', len(os.listdir(test_nevus_folder)))\n"
   ]
  },
  {
   "cell_type": "markdown",
   "metadata": {},
   "source": [
    "### Make image generator"
   ]
  },
  {
   "cell_type": "code",
   "execution_count": null,
   "metadata": {},
   "outputs": [],
   "source": [
    "from tensorflow.keras.preprocessing import image \n",
    "import matplotlib.pyplot as plt\n",
    "import numpy as np\n",
    "import cv2\n",
    "\n",
    "def minmaxnorm(image):\n",
    "    return (image - image.min())/(image.max() - image.min())\n",
    "\n",
    "def centering(image):\n",
    "    # Tryin to compute (-1)**(x+y)\n",
    "    # make vectors\n",
    "    M = image.shape[0]\n",
    "    N = image.shape[1]\n",
    "\n",
    "    x = np.matrix(np.arange(0,N,1))\n",
    "    y = np.matrix(np.arange(0,M,1)).T\n",
    "\n",
    "    # make matrixes\n",
    "    x = np.repeat(x, M, axis=0)\n",
    "    y = np.repeat(y, N, axis=1)\n",
    "\n",
    "    x_y = np.add(x, y)\n",
    "\n",
    "    # calculate powers of ones\n",
    "    ones_power = np.power(-1, x_y)\n",
    "    return np.multiply(image, ones_power)\n",
    "\n",
    "def Butterworth(image, mode='lp', n=2, distance=-1):\n",
    "    '''\n",
    "    image - gray image, 2d np array\n",
    "    mode - 'hp' for highpass, 'lp' for lowpass\n",
    "    n - speed of slope decay \n",
    "    distance - radius of filter. -1 for auto (1/7 of min(sideLength))\n",
    "    '''\n",
    "    # 0. Normalization check\n",
    "    if image.max() > 1:\n",
    "        image = image / 255\n",
    "        \n",
    "    # 1. Centering of a image\n",
    "    c_img = centering(image)\n",
    "\n",
    "    # 2. Take FFT2 of centered image\n",
    "    dft2 = np.fft.fft2(c_img)\n",
    "\n",
    "    # 3. Construct a real, symmetric filter H(u,v) \n",
    "    #    distance = (u - P/2)^2 - (v - Q/2)^2\n",
    "    #    here we use n and distance\n",
    "    if distance == -1:\n",
    "        D0 = np.min(c_img.shape)*(1/7)\n",
    "    else:\n",
    "        D0 = distance\n",
    "\n",
    "    H = np.zeros(c_img.shape)\n",
    "    for u in range(H.shape[0]):\n",
    "        for v in range(H.shape[1]):\n",
    "            dist = np.sqrt((u-H.shape[0]/2)**2 + (v-H.shape[1]/2)**2)\n",
    "            H[u,v] = 1 / (1 + (D0/dist)**(2*n))\n",
    "    if mode == 'lp':\n",
    "        H -= 1\n",
    "\n",
    "    # 4. Apply filter \n",
    "    G = np.multiply(H, dft2)\n",
    "    idft2_G = np.fft.ifft2(G)\n",
    "    # Normalizeing\n",
    "    idft2_G /= np.max(idft2_G)\n",
    "    idft2_G = centering(idft2_G).real\n",
    "        \n",
    "    return np.array(idft2_G)"
   ]
  },
  {
   "cell_type": "code",
   "execution_count": null,
   "metadata": {
    "scrolled": false
   },
   "outputs": [],
   "source": [
    "# Datagen preprocessing_function\n",
    "def preprocess(img):\n",
    "    # Correcting image format\n",
    "    x = np.array(img, dtype='uint8')\n",
    "    # Blur image\n",
    "    x = cv2.GaussianBlur(x,(7,7),0)\n",
    "    \n",
    "    # Highpass Butterworth filter\n",
    "    gray = cv2.cvtColor(x, cv2.COLOR_BGR2GRAY) #/255\n",
    "    hp = Butterworth(gray, mode='hp', n=2, distance=12)\n",
    "    hp = minmaxnorm(hp)\n",
    "    hp_img = np.add(gray, hp)\n",
    "    \n",
    "    # Contrast Limited Adaptive Histogram Equalization\n",
    "    norm_hp_img = minmaxnorm(hp_img)\n",
    "    norm_hp_img = np.array(norm_hp_img*255, dtype='uint8')\n",
    "    clahe = cv2.createCLAHE(clipLimit=2.0, tileGridSize=(8,8))\n",
    "    norm_hp_img = clahe.apply(norm_hp_img)\n",
    "    x = cv2.cvtColor(norm_hp_img, cv2.COLOR_GRAY2RGB)\n",
    "    \n",
    "    x = np.array(x, dtype='float32')\n",
    "    return x\n",
    "\n",
    "# img_path = fnames[12]\n",
    "# img = image.load_img(img_path, target_size=(244, 244))\n",
    "# x = np.array(img)\n",
    "# y = preprocess(np.array(img))\n",
    "# print(\"X:\",x.shape,x.max(),x.min(),type(x),x.dtype)\n",
    "# print(\"Y:\",y.shape,y.max(),y.min(),type(y),y.dtype)\n",
    "\n",
    "# plt.figure()\n",
    "# plt.imshow(x/255, cmap='gray')\n",
    "# plt.figure()\n",
    "# plt.imshow(y/255, cmap='gray')"
   ]
  },
  {
   "cell_type": "code",
   "execution_count": 5,
   "metadata": {},
   "outputs": [
    {
     "name": "stdout",
     "output_type": "stream",
     "text": [
      "Found 1400 images belonging to 2 classes.\n",
      "Found 400 images belonging to 2 classes.\n",
      "Found 200 images belonging to 2 classes.\n"
     ]
    }
   ],
   "source": [
    "from tensorflow.keras.preprocessing.image import ImageDataGenerator\n",
    "SIZE = (600,450)\n",
    "\n",
    "# Rescale image values from 0..255 to 0..1\n",
    "train_datagen = ImageDataGenerator(rescale=1./255,\n",
    "#                                    rotation_range=180,\n",
    "#                                    width_shift_range=0.1,\n",
    "#                                    height_shift_range=0.1,\n",
    "#                                    shear_range=0.1,\n",
    "#                                    zoom_range=0.1,\n",
    "                                   horizontal_flip=True,\n",
    "                                   vertical_flip=True,\n",
    "                                   fill_mode='nearest')\n",
    "\n",
    "valid_datagen = ImageDataGenerator(rescale=1./255)\n",
    "test_datagen = ImageDataGenerator(rescale=1./255)\n",
    "\n",
    "train_generator = train_datagen.flow_from_directory(\n",
    "    train_folder, \n",
    "    target_size = (SIZE[0],SIZE[1]),\n",
    "    batch_size = 20,\n",
    "    class_mode = 'binary')\n",
    "\n",
    "valid_generator = valid_datagen.flow_from_directory(\n",
    "    validation_folder, \n",
    "    target_size = (SIZE[0],SIZE[1]), \n",
    "    batch_size = 20,\n",
    "    class_mode = 'binary')\n",
    "\n",
    "test_generator = test_datagen.flow_from_directory(\n",
    "    test_folder, \n",
    "    target_size = (SIZE[0],SIZE[1]), \n",
    "    batch_size = 20,\n",
    "    class_mode = 'binary')"
   ]
  },
  {
   "cell_type": "markdown",
   "metadata": {},
   "source": [
    "### Network construction"
   ]
  },
  {
   "cell_type": "code",
   "execution_count": 10,
   "metadata": {
    "scrolled": true
   },
   "outputs": [
    {
     "name": "stdout",
     "output_type": "stream",
     "text": [
      "1.15.2\n",
      "Num GPUs Available:  1\n"
     ]
    }
   ],
   "source": [
    "import tensorflow\n",
    "\n",
    "from tensorflow.keras import layers\n",
    "from tensorflow.keras import models\n",
    "from tensorflow.keras import optimizers\n",
    "\n",
    "print(tensorflow.__version__)\n",
    "print(\"Num GPUs Available: \", len(tensorflow.config.experimental.list_physical_devices('GPU')))\n",
    "\n",
    "tensorflow.debugging.set_log_device_placement(True)\n",
    "gpus = tensorflow.config.experimental.list_physical_devices('GPU')\n",
    "tensorflow.config.experimental.set_memory_growth(gpus[0], True)"
   ]
  },
  {
   "cell_type": "code",
   "execution_count": 1,
   "metadata": {},
   "outputs": [],
   "source": [
    "'''\n",
    "Define plot training function\n",
    "'''\n",
    "import matplotlib.pyplot as plt\n",
    "\n",
    "def plot_history(history):\n",
    "    acc = history.history['acc']\n",
    "    val_acc = history.history['val_acc']\n",
    "    loss = history.history['loss']\n",
    "    val_loss = history.history['val_loss']\n",
    "    epochs = range(1, len(acc) + 1)\n",
    "    plt.plot(epochs, acc, label='Training acc')\n",
    "    plt.plot(epochs, val_acc, label='Validation acc')\n",
    "    plt.title('Training and validation accuracy')\n",
    "    plt.ylabel('Accuracy')\n",
    "    plt.xlabel('Epochs')\n",
    "    plt.legend()\n",
    "\n",
    "    plt.figure()\n",
    "    plt.plot(epochs, loss, label='Training loss')\n",
    "    plt.plot(epochs, val_loss, label='Validation loss')\n",
    "    plt.title('Training and validation loss')\n",
    "    plt.ylabel('Loss')\n",
    "    plt.xlabel('Epochs')\n",
    "    plt.legend()\n",
    "    plt.show()"
   ]
  },
  {
   "cell_type": "code",
   "execution_count": 11,
   "metadata": {
    "scrolled": true
   },
   "outputs": [
    {
     "name": "stdout",
     "output_type": "stream",
     "text": [
      "WARNING:tensorflow:From /usr/local/lib/python3.6/dist-packages/tensorflow_core/python/ops/resource_variable_ops.py:1630: calling BaseResourceVariable.__init__ (from tensorflow.python.ops.resource_variable_ops) with constraint is deprecated and will be removed in a future version.\n",
      "Instructions for updating:\n",
      "If using Keras pass *_constraint arguments to layers.\n",
      "Model: \"sequential\"\n",
      "_________________________________________________________________\n",
      "Layer (type)                 Output Shape              Param #   \n",
      "=================================================================\n",
      "conv2d (Conv2D)              (None, 596, 446, 32)      2432      \n",
      "_________________________________________________________________\n",
      "max_pooling2d (MaxPooling2D) (None, 198, 148, 32)      0         \n",
      "_________________________________________________________________\n",
      "conv2d_1 (Conv2D)            (None, 195, 145, 64)      32832     \n",
      "_________________________________________________________________\n",
      "max_pooling2d_1 (MaxPooling2 (None, 97, 72, 64)        0         \n",
      "_________________________________________________________________\n",
      "conv2d_2 (Conv2D)            (None, 95, 70, 128)       73856     \n",
      "_________________________________________________________________\n",
      "max_pooling2d_2 (MaxPooling2 (None, 47, 35, 128)       0         \n",
      "_________________________________________________________________\n",
      "conv2d_3 (Conv2D)            (None, 45, 33, 128)       147584    \n",
      "_________________________________________________________________\n",
      "max_pooling2d_3 (MaxPooling2 (None, 22, 16, 128)       0         \n",
      "_________________________________________________________________\n",
      "flatten (Flatten)            (None, 45056)             0         \n",
      "_________________________________________________________________\n",
      "dense (Dense)                (None, 512)               23069184  \n",
      "_________________________________________________________________\n",
      "dense_1 (Dense)              (None, 1)                 513       \n",
      "=================================================================\n",
      "Total params: 23,326,401\n",
      "Trainable params: 23,326,401\n",
      "Non-trainable params: 0\n",
      "_________________________________________________________________\n",
      "WARNING:tensorflow:From /usr/local/lib/python3.6/dist-packages/tensorflow_core/python/ops/nn_impl.py:183: where (from tensorflow.python.ops.array_ops) is deprecated and will be removed in a future version.\n",
      "Instructions for updating:\n",
      "Use tf.where in 2.0, which has the same broadcast rule as np.where\n"
     ]
    }
   ],
   "source": [
    "callbacks_list = [\n",
    "    tensorflow.keras.callbacks.EarlyStopping(\n",
    "        monitor='val_acc', min_delta=0.001, patience=5),\n",
    "    tensorflow.keras.callbacks.ModelCheckpoint(\n",
    "        filepath='model.h5', monitor='val_loss',save_best_only=True)\n",
    "]\n",
    "\n",
    "# My model\n",
    "model = models.Sequential()\n",
    "model.add(layers.Conv2D(32, (5,5), activation='relu', input_shape=(SIZE[0],SIZE[1],3)))\n",
    "model.add(layers.MaxPooling2D((3,3)))\n",
    "model.add(layers.Conv2D(64,(4,4), activation='relu'))\n",
    "model.add(layers.MaxPooling2D((2,2)))\n",
    "model.add(layers.Conv2D(128,(3,3), activation='relu'))\n",
    "model.add(layers.MaxPooling2D((2,2)))\n",
    "model.add(layers.Conv2D(128,(3,3), activation='relu'))\n",
    "model.add(layers.MaxPooling2D((2,2)))\n",
    "model.add(layers.Flatten())\n",
    "model.add(layers.Dense(512, activation='relu'))\n",
    "model.add(layers.Dense(1, activation='sigmoid'))\n",
    "          \n",
    "model.summary()\n",
    "model.compile(loss='binary_crossentropy', optimizer='adam', metrics=['acc'])"
   ]
  },
  {
   "cell_type": "markdown",
   "metadata": {},
   "source": [
    "### Train model"
   ]
  },
  {
   "cell_type": "code",
   "execution_count": 12,
   "metadata": {
    "scrolled": true
   },
   "outputs": [
    {
     "name": "stdout",
     "output_type": "stream",
     "text": [
      "Device mapping:\n",
      "/job:localhost/replica:0/task:0/device:XLA_CPU:0 -> device: XLA_CPU device\n",
      "/job:localhost/replica:0/task:0/device:XLA_GPU:0 -> device: XLA_GPU device\n",
      "/job:localhost/replica:0/task:0/device:GPU:0 -> device: 0, name: GeForce RTX 2080, pci bus id: 0000:01:00.0, compute capability: 7.5\n",
      "\n",
      "Epoch 1/50\n",
      "69/70 [============================>.] - ETA: 0s - loss: 0.7580 - acc: 0.4681Epoch 1/50\n",
      "70/70 [==============================] - 15s 209ms/step - loss: 0.7571 - acc: 0.4679 - val_loss: 0.6932 - val_acc: 0.4850\n",
      "Epoch 2/50\n",
      "69/70 [============================>.] - ETA: 0s - loss: 0.6938 - acc: 0.4862Epoch 1/50\n",
      "70/70 [==============================] - 11s 161ms/step - loss: 0.6938 - acc: 0.4864 - val_loss: 0.6931 - val_acc: 0.4983\n",
      "Epoch 3/50\n",
      "69/70 [============================>.] - ETA: 0s - loss: 0.6932 - acc: 0.4833Epoch 1/50\n",
      "70/70 [==============================] - 10s 150ms/step - loss: 0.6932 - acc: 0.4829 - val_loss: 0.6932 - val_acc: 0.4983\n",
      "Epoch 4/50\n",
      "69/70 [============================>.] - ETA: 0s - loss: 0.6932 - acc: 0.4928Epoch 1/50\n",
      "70/70 [==============================] - 10s 150ms/step - loss: 0.6932 - acc: 0.4929 - val_loss: 0.6931 - val_acc: 0.5067\n",
      "Epoch 5/50\n",
      "69/70 [============================>.] - ETA: 0s - loss: 0.6933 - acc: 0.4797Epoch 1/50\n",
      "70/70 [==============================] - 11s 162ms/step - loss: 0.6933 - acc: 0.4800 - val_loss: 0.6931 - val_acc: 0.5083\n",
      "Epoch 6/50\n",
      "69/70 [============================>.] - ETA: 0s - loss: 0.6932 - acc: 0.5007Epoch 1/50\n",
      "70/70 [==============================] - 11s 151ms/step - loss: 0.6932 - acc: 0.5000 - val_loss: 0.6932 - val_acc: 0.4967\n",
      "Epoch 7/50\n",
      "69/70 [============================>.] - ETA: 0s - loss: 0.6932 - acc: 0.5000Epoch 1/50\n",
      "70/70 [==============================] - 10s 150ms/step - loss: 0.6932 - acc: 0.5000 - val_loss: 0.6932 - val_acc: 0.4900\n",
      "Epoch 8/50\n",
      "69/70 [============================>.] - ETA: 0s - loss: 0.6933 - acc: 0.4971Epoch 1/50\n",
      "70/70 [==============================] - 10s 150ms/step - loss: 0.6932 - acc: 0.5000 - val_loss: 0.6932 - val_acc: 0.4967\n",
      "Epoch 9/50\n",
      "69/70 [============================>.] - ETA: 0s - loss: 0.6933 - acc: 0.4899Epoch 1/50\n",
      "70/70 [==============================] - 11s 150ms/step - loss: 0.6933 - acc: 0.4900 - val_loss: 0.6931 - val_acc: 0.5017\n",
      "Epoch 10/50\n",
      "69/70 [============================>.] - ETA: 0s - loss: 0.6933 - acc: 0.5014Epoch 1/50\n",
      "70/70 [==============================] - 11s 162ms/step - loss: 0.6933 - acc: 0.5000 - val_loss: 0.6930 - val_acc: 0.5167\n",
      "Epoch 11/50\n",
      "69/70 [============================>.] - ETA: 0s - loss: 0.6932 - acc: 0.4993Epoch 1/50\n",
      "70/70 [==============================] - 11s 150ms/step - loss: 0.6932 - acc: 0.5000 - val_loss: 0.6931 - val_acc: 0.5017\n",
      "Epoch 12/50\n",
      "69/70 [============================>.] - ETA: 0s - loss: 0.6932 - acc: 0.4768Epoch 1/50\n",
      "70/70 [==============================] - 10s 150ms/step - loss: 0.6932 - acc: 0.4757 - val_loss: 0.6931 - val_acc: 0.5050\n",
      "Epoch 13/50\n",
      "69/70 [============================>.] - ETA: 0s - loss: 0.6932 - acc: 0.4725Epoch 1/50\n",
      "70/70 [==============================] - 11s 150ms/step - loss: 0.6932 - acc: 0.4714 - val_loss: 0.6931 - val_acc: 0.5017\n",
      "Epoch 14/50\n",
      "69/70 [============================>.] - ETA: 0s - loss: 0.6932 - acc: 0.4913Epoch 1/50\n",
      "70/70 [==============================] - 11s 150ms/step - loss: 0.6932 - acc: 0.4900 - val_loss: 0.6931 - val_acc: 0.5033\n",
      "Epoch 15/50\n",
      "69/70 [============================>.] - ETA: 0s - loss: 0.6932 - acc: 0.4848Epoch 1/50\n",
      "70/70 [==============================] - 10s 150ms/step - loss: 0.6932 - acc: 0.4857 - val_loss: 0.6931 - val_acc: 0.5167\n"
     ]
    }
   ],
   "source": [
    "history = model.fit_generator(\n",
    "    train_generator,\n",
    "    steps_per_epoch = 70,\n",
    "    epochs = 50,\n",
    "    validation_data = valid_generator,\n",
    "    validation_steps = 30,\n",
    "    callbacks=callbacks_list)\n",
    "\n",
    "# model.save('melanoma_nevus_1.h5')"
   ]
  },
  {
   "cell_type": "code",
   "execution_count": 13,
   "metadata": {},
   "outputs": [
    {
     "data": {
      "image/png": "[encoded data removed]",
      "text/plain": [
       "<Figure size 432x288 with 1 Axes>"
      ]
     },
     "metadata": {
      "needs_background": "light"
     },
     "output_type": "display_data"
    },
    {
     "data": {
      "image/png": "[encoded data removed]",
      "text/plain": [
       "<Figure size 432x288 with 1 Axes>"
      ]
     },
     "metadata": {
      "needs_background": "light"
     },
     "output_type": "display_data"
    }
   ],
   "source": [
    "import matplotlib.pyplot as plt\n",
    "\n",
    "acc = history.history['acc']\n",
    "val_acc = history.history['val_acc']\n",
    "loss = history.history['loss']\n",
    "val_loss = history.history['val_loss']\n",
    "epochs = range(1, len(acc) + 1)\n",
    "plt.plot(epochs, acc, label='Training acc')\n",
    "plt.plot(epochs, val_acc, label='Validation acc')\n",
    "plt.title('Training and validation accuracy')\n",
    "plt.ylabel('Accuracy')\n",
    "plt.xlabel('Epochs')\n",
    "plt.legend()\n",
    "\n",
    "plt.figure()\n",
    "plt.plot(epochs, loss, label='Training loss')\n",
    "plt.plot(epochs, val_loss, label='Validation loss')\n",
    "plt.title('Training and validation loss')\n",
    "plt.ylabel('Loss')\n",
    "plt.xlabel('Epochs')\n",
    "plt.legend()\n",
    "plt.show()"
   ]
  },
  {
   "cell_type": "markdown",
   "metadata": {},
   "source": [
    "### Transfer learning"
   ]
  },
  {
   "cell_type": "code",
   "execution_count": null,
   "metadata": {},
   "outputs": [],
   "source": [
    "import tensorflow\n",
    "from tensorflow.keras.applications import ResNet50#InceptionResNetV2\n",
    "\n",
    "conv_base = ResNet50(weights='imagenet',\n",
    "                  include_top=False,\n",
    "                  input_shape=(SIZE[0], SIZE[1], 3))\n",
    "\n",
    "conv_base.summary()"
   ]
  },
  {
   "cell_type": "code",
   "execution_count": null,
   "metadata": {},
   "outputs": [],
   "source": [
    "from tensorflow.keras import regularizers\n",
    "# Augment conv_base\n",
    "model = models.Sequential()\n",
    "model.add(conv_base)\n",
    "model.add(layers.Flatten())\n",
    "model.add(layers.Dropout(0.5))\n",
    "model.add(layers.Dense(256, activation='relu'))#, kernel_regularizer=regularizers.l2(0.001)))\n",
    "# model.add(layers.Dropout(0.5))\n",
    "model.add(layers.Dense(1, activation='sigmoid'))\n",
    "\n",
    "# Freeze conv_base \n",
    "conv_base.trainable = False\n",
    "\n",
    "model.compile(loss='binary_crossentropy', optimizer=optimizers.RMSprop(lr=2e-5), metrics=['acc'])"
   ]
  },
  {
   "cell_type": "code",
   "execution_count": null,
   "metadata": {
    "scrolled": true
   },
   "outputs": [],
   "source": [
    "callbacks_list = [\n",
    "    tensorflow.keras.callbacks.EarlyStopping(\n",
    "        monitor='val_acc', min_delta=0.001, patience=5),\n",
    "    tensorflow.keras.callbacks.ModelCheckpoint(\n",
    "        filepath='model.h5', monitor='val_loss',save_best_only=True)\n",
    "]\n",
    "\n",
    "\n",
    "history = model.fit_generator(\n",
    "    train_generator,\n",
    "    steps_per_epoch = 100,\n",
    "    epochs = 20,\n",
    "    validation_data = valid_generator,\n",
    "    validation_steps = 50,\n",
    "    callbacks=callbacks_list)"
   ]
  },
  {
   "cell_type": "code",
   "execution_count": 14,
   "metadata": {},
   "outputs": [
    {
     "data": {
      "image/png": "[encoded data removed]",
      "text/plain": [
       "<Figure size 432x288 with 1 Axes>"
      ]
     },
     "metadata": {
      "needs_background": "light"
     },
     "output_type": "display_data"
    },
    {
     "data": {
      "image/png": "[encoded data removed]",
      "text/plain": [
       "<Figure size 432x288 with 1 Axes>"
      ]
     },
     "metadata": {
      "needs_background": "light"
     },
     "output_type": "display_data"
    }
   ],
   "source": [
    "import matplotlib.pyplot as plt\n",
    "def smooth_curve(points, factor=0.8):\n",
    "    smoothed_points = []\n",
    "    for point in points:\n",
    "        if smoothed_points:\n",
    "            previous = smoothed_points[-1]\n",
    "            smoothed_points.append(previous * factor + point * (1 - factor))\n",
    "        else:\n",
    "            smoothed_points.append(point)\n",
    "    return smoothed_points\n",
    "\n",
    "acc = history.history['acc']\n",
    "val_acc = history.history['val_acc']\n",
    "loss = history.history['loss']\n",
    "val_loss = history.history['val_loss']\n",
    "epochs = range(1, len(acc) + 1)\n",
    "plt.plot(epochs, smooth_curve(acc), label='Training acc')\n",
    "plt.plot(epochs, smooth_curve(val_acc), label='Validation acc')\n",
    "plt.title('Training and validation accuracy')\n",
    "plt.ylabel('Accuracy')\n",
    "plt.xlabel('Epochs')\n",
    "plt.legend()\n",
    "plt.figure()\n",
    "plt.plot(epochs, smooth_curve(loss), label='Training loss')\n",
    "plt.plot(epochs, smooth_curve(val_loss), label='Validation loss')\n",
    "plt.title('Training and validation loss')\n",
    "plt.ylabel('Loss')\n",
    "plt.xlabel('Epochs')\n",
    "plt.legend()\n",
    "plt.show()"
   ]
  },
  {
   "cell_type": "markdown",
   "metadata": {},
   "source": [
    "### Fine tuning "
   ]
  },
  {
   "cell_type": "code",
   "execution_count": null,
   "metadata": {},
   "outputs": [],
   "source": [
    "# 1. Add new layer \n",
    "# 2. Freeze base network\n",
    "# 3. Train added layer\n",
    "# 4. Unfreeze couple last layers of base network\n",
    "# 5. Train this layers\n",
    "import tensorflow\n",
    "from tensorflow.keras.models import load_model\n",
    "model = load_model('model.h5')"
   ]
  },
  {
   "cell_type": "code",
   "execution_count": null,
   "metadata": {
    "scrolled": true
   },
   "outputs": [],
   "source": [
    "for layer in model.layers:\n",
    "    if layer.name == 'resnet50':\n",
    "        for l in layer.layers[165:]:\n",
    "            layer.trainable = True\n",
    "        for l in layer.layers[:165]:\n",
    "            l.trainable = False\n",
    "\n",
    "model.compile(loss='binary_crossentropy', optimizer=optimizers.RMSprop(lr=1e-5),metrics=['acc'])"
   ]
  },
  {
   "cell_type": "code",
   "execution_count": null,
   "metadata": {},
   "outputs": [],
   "source": [
    "callbacks_list = [\n",
    "    tensorflow.keras.callbacks.EarlyStopping(\n",
    "        monitor='val_acc', min_delta=0.001, patience=5),\n",
    "    tensorflow.keras.callbacks.ModelCheckpoint(\n",
    "        filepath='model.h5', monitor='val_loss',save_best_only=True)\n",
    "]\n",
    "\n",
    "history = model.fit_generator(\n",
    "    train_generator,\n",
    "    steps_per_epoch=100,\n",
    "    epochs=100,\n",
    "    validation_data=valid_generator,\n",
    "    validation_steps=50,\n",
    "    callbacks=callbacks_list)"
   ]
  },
  {
   "cell_type": "markdown",
   "metadata": {},
   "source": [
    "### Test model"
   ]
  },
  {
   "cell_type": "code",
   "execution_count": 16,
   "metadata": {},
   "outputs": [
    {
     "name": "stdout",
     "output_type": "stream",
     "text": [
      "test acc: 0.5\n",
      "test loss: 0.6931476759910583\n"
     ]
    }
   ],
   "source": [
    "test_loss, test_acc = model.evaluate_generator(test_generator, steps=100)\n",
    "print(\"test acc:\", test_acc)\n",
    "print(\"test loss:\", test_loss)\n"
   ]
  },
  {
   "cell_type": "markdown",
   "metadata": {},
   "source": [
    "### Visualization of intermediate activations"
   ]
  },
  {
   "cell_type": "code",
   "execution_count": 19,
   "metadata": {},
   "outputs": [
    {
     "data": {
      "image/png": "[encoded data removed]",
      "text/plain": [
       "<Figure size 432x288 with 1 Axes>"
      ]
     },
     "metadata": {
      "needs_background": "light"
     },
     "output_type": "display_data"
    }
   ],
   "source": [
    "from mpl_toolkits import mplot3d\n",
    "import numpy as np\n",
    "import matplotlib.pyplot as plt\n",
    "\n",
    "fig = plt.figure()\n",
    "ax = plt.axes(projection='3d')"
   ]
  }
 ],
 "metadata": {
  "kernelspec": {
   "display_name": "Python 3",
   "language": "python",
   "name": "python3"
  },
  "language_info": {
   "codemirror_mode": {
    "name": "ipython",
    "version": 3
   },
   "file_extension": ".py",
   "mimetype": "text/x-python",
   "name": "python",
   "nbconvert_exporter": "python",
   "pygments_lexer": "ipython3",
   "version": "3.6.9"
  }
 },
 "nbformat": 4,
 "nbformat_minor": 4
}
